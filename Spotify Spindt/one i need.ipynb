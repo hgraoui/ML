{
 "cells": [
  {
   "cell_type": "code",
   "execution_count": 22,
   "id": "963b91a2",
   "metadata": {},
   "outputs": [],
   "source": [
    "import pandas as pd\n",
    "import seaborn as sn\n",
    "import numpy as np\n",
    "import json\n",
    "from sklearn.cluster import DBSCAN\n",
    "from sklearn.metrics import silhouette_score"
   ]
  },
  {
   "cell_type": "code",
   "execution_count": 23,
   "id": "18044d77",
   "metadata": {},
   "outputs": [],
   "source": [
    "def makeTHATdf():\n",
    "    df = pd.read_csv(\"tracks.csv\")\n",
    "    df = df.dropna()\n",
    "    return df"
   ]
  },
  {
   "cell_type": "code",
   "execution_count": 24,
   "id": "c88de87a",
   "metadata": {},
   "outputs": [],
   "source": [
    "#makeTHATdf(); FUN fact, the \";\" supresses the output of data!....."
   ]
  },
  {
   "cell_type": "code",
   "execution_count": 25,
   "id": "46e5653e",
   "metadata": {},
   "outputs": [],
   "source": [
    "df = makeTHATdf()"
   ]
  },
  {
   "cell_type": "code",
   "execution_count": null,
   "id": "0833e614",
   "metadata": {},
   "outputs": [],
   "source": []
  },
  {
   "cell_type": "markdown",
   "id": "977c304b",
   "metadata": {},
   "source": [
    "# This is for Ms.Spindt's vetting playlist"
   ]
  },
  {
   "cell_type": "code",
   "execution_count": 26,
   "id": "f78df8ae",
   "metadata": {
    "scrolled": false
   },
   "outputs": [],
   "source": [
    "#df2 = pd.read_json(\"vetting_playlist.json\")"
   ]
  },
  {
   "cell_type": "code",
   "execution_count": 27,
   "id": "493d669f",
   "metadata": {},
   "outputs": [],
   "source": [
    "def VettingPL():\n",
    "    with open(\"vetting_playlist.json\", 'r') as file:\n",
    "        data = json.load(file)\n",
    "    \n",
    "    data.keys()\n",
    "    floridaKeys = data.keys()\n",
    "    \n",
    "    songs = []\n",
    "    \n",
    "    for item in data.get(\"tracks\", {}).get(\"items\", []):\n",
    "        track = item.get(\"track\", None)\n",
    "        if track:\n",
    "            song_info = {\n",
    "                \"id\": track.get(\"id\"),\n",
    "                \"name\": track.get(\"name\"),\n",
    "                \"album\": track.get(\"album\", {}).get(\"name\"),\n",
    "                \"artist\": track.get(\"album\", {}).get(\"artists\", [{}])[0].get(\"name\"),\n",
    "                \"release_date\": track.get(\"album\", {}).get(\"release_date\"),\n",
    "                \"image_url\": track.get(\"album\", {}).get(\"images\", [{}])[0].get(\"url\")\n",
    "            }\n",
    "            songs.append(song_info)\n",
    "\n",
    "    df2 = pd.DataFrame(songs)\n",
    "    return df2"
   ]
  },
  {
   "cell_type": "code",
   "execution_count": 28,
   "id": "137d1d1d",
   "metadata": {},
   "outputs": [],
   "source": [
    "df2 = VettingPL()"
   ]
  },
  {
   "cell_type": "code",
   "execution_count": 29,
   "id": "5621b17e",
   "metadata": {},
   "outputs": [
    {
     "data": {
      "text/html": [
       "<div>\n",
       "<style scoped>\n",
       "    .dataframe tbody tr th:only-of-type {\n",
       "        vertical-align: middle;\n",
       "    }\n",
       "\n",
       "    .dataframe tbody tr th {\n",
       "        vertical-align: top;\n",
       "    }\n",
       "\n",
       "    .dataframe thead th {\n",
       "        text-align: right;\n",
       "    }\n",
       "</style>\n",
       "<table border=\"1\" class=\"dataframe\">\n",
       "  <thead>\n",
       "    <tr style=\"text-align: right;\">\n",
       "      <th></th>\n",
       "      <th>id</th>\n",
       "      <th>name</th>\n",
       "      <th>album</th>\n",
       "      <th>artist</th>\n",
       "      <th>release_date</th>\n",
       "      <th>image_url</th>\n",
       "    </tr>\n",
       "  </thead>\n",
       "  <tbody>\n",
       "    <tr>\n",
       "      <th>0</th>\n",
       "      <td>0NSEZeWHkYCknk1nAVO1Fh</td>\n",
       "      <td>Better Than</td>\n",
       "      <td>Bad Self Portraits</td>\n",
       "      <td>Lake Street Dive</td>\n",
       "      <td>2014-02-18</td>\n",
       "      <td>https://i.scdn.co/image/ab67616d0000b273c48375...</td>\n",
       "    </tr>\n",
       "    <tr>\n",
       "      <th>1</th>\n",
       "      <td>17ZnveSDBpG9QtL7zLJNPy</td>\n",
       "      <td>Only For You</td>\n",
       "      <td>Arrow</td>\n",
       "      <td>Heartless Bastards</td>\n",
       "      <td>2012-02-14</td>\n",
       "      <td>https://i.scdn.co/image/ab67616d0000b2737a7515...</td>\n",
       "    </tr>\n",
       "    <tr>\n",
       "      <th>2</th>\n",
       "      <td>1DrlLvlYd1FIjNavRm6NdX</td>\n",
       "      <td>Back Pocket</td>\n",
       "      <td>Thrill of the Arts</td>\n",
       "      <td>Vulfpeck</td>\n",
       "      <td>2015-10-09</td>\n",
       "      <td>https://i.scdn.co/image/ab67616d0000b273d4d231...</td>\n",
       "    </tr>\n",
       "    <tr>\n",
       "      <th>3</th>\n",
       "      <td>51ggEZWbFP5dMdWjGCDYTk</td>\n",
       "      <td>Dunes</td>\n",
       "      <td>Sound &amp; Color</td>\n",
       "      <td>Alabama Shakes</td>\n",
       "      <td>2015-04-21</td>\n",
       "      <td>https://i.scdn.co/image/ab67616d0000b2733ac1c6...</td>\n",
       "    </tr>\n",
       "    <tr>\n",
       "      <th>4</th>\n",
       "      <td>40WXqoyOLAAugGmJWZU1FY</td>\n",
       "      <td>All The Time</td>\n",
       "      <td>Bahamas is Afie</td>\n",
       "      <td>Bahamas</td>\n",
       "      <td>2014-08-19</td>\n",
       "      <td>https://i.scdn.co/image/ab67616d0000b273f7db38...</td>\n",
       "    </tr>\n",
       "  </tbody>\n",
       "</table>\n",
       "</div>"
      ],
      "text/plain": [
       "                       id          name               album  \\\n",
       "0  0NSEZeWHkYCknk1nAVO1Fh   Better Than  Bad Self Portraits   \n",
       "1  17ZnveSDBpG9QtL7zLJNPy  Only For You               Arrow   \n",
       "2  1DrlLvlYd1FIjNavRm6NdX   Back Pocket  Thrill of the Arts   \n",
       "3  51ggEZWbFP5dMdWjGCDYTk         Dunes       Sound & Color   \n",
       "4  40WXqoyOLAAugGmJWZU1FY  All The Time     Bahamas is Afie   \n",
       "\n",
       "               artist release_date  \\\n",
       "0    Lake Street Dive   2014-02-18   \n",
       "1  Heartless Bastards   2012-02-14   \n",
       "2            Vulfpeck   2015-10-09   \n",
       "3      Alabama Shakes   2015-04-21   \n",
       "4             Bahamas   2014-08-19   \n",
       "\n",
       "                                           image_url  \n",
       "0  https://i.scdn.co/image/ab67616d0000b273c48375...  \n",
       "1  https://i.scdn.co/image/ab67616d0000b2737a7515...  \n",
       "2  https://i.scdn.co/image/ab67616d0000b273d4d231...  \n",
       "3  https://i.scdn.co/image/ab67616d0000b2733ac1c6...  \n",
       "4  https://i.scdn.co/image/ab67616d0000b273f7db38...  "
      ]
     },
     "execution_count": 29,
     "metadata": {},
     "output_type": "execute_result"
    }
   ],
   "source": [
    "df2.head()"
   ]
  },
  {
   "cell_type": "markdown",
   "id": "ad53de00",
   "metadata": {},
   "source": [
    "# 1st Feature! This is getting the years from the release dates in order to find the songs that are within the\n",
    "prefered time range which was around 2010~ish"
   ]
  },
  {
   "cell_type": "code",
   "execution_count": 30,
   "id": "86e4198d",
   "metadata": {},
   "outputs": [],
   "source": [
    "def Feature1(data):\n",
    "    df[\"release_date\"] = pd.to_datetime(df[\"release_date\"], errors=\"coerce\")\n",
    "    df[\"release_year\"] = df[\"release_date\"].dt.year\n",
    "    miniDF = df[(df[\"release_year\"] >= 2000) & (df[\"release_year\"] <= 2020)]"
   ]
  },
  {
   "cell_type": "code",
   "execution_count": 31,
   "id": "240f0859",
   "metadata": {},
   "outputs": [],
   "source": [
    "df2[\"release_date\"] = pd.to_datetime(df2[\"release_date\"], errors=\"coerce\")\n",
    "df2[\"release_year\"] = df2[\"release_date\"].dt.year\n",
    "#miniDF = df[(df[\"release_year\"] >= 2000) & (df[\"release_year\"] <= 2020)]"
   ]
  },
  {
   "cell_type": "code",
   "execution_count": 32,
   "id": "ce16ae55",
   "metadata": {},
   "outputs": [
    {
     "data": {
      "text/html": [
       "<div>\n",
       "<style scoped>\n",
       "    .dataframe tbody tr th:only-of-type {\n",
       "        vertical-align: middle;\n",
       "    }\n",
       "\n",
       "    .dataframe tbody tr th {\n",
       "        vertical-align: top;\n",
       "    }\n",
       "\n",
       "    .dataframe thead th {\n",
       "        text-align: right;\n",
       "    }\n",
       "</style>\n",
       "<table border=\"1\" class=\"dataframe\">\n",
       "  <thead>\n",
       "    <tr style=\"text-align: right;\">\n",
       "      <th></th>\n",
       "      <th>id</th>\n",
       "      <th>name</th>\n",
       "      <th>album</th>\n",
       "      <th>artist</th>\n",
       "      <th>release_date</th>\n",
       "      <th>image_url</th>\n",
       "      <th>release_year</th>\n",
       "    </tr>\n",
       "  </thead>\n",
       "  <tbody>\n",
       "    <tr>\n",
       "      <th>0</th>\n",
       "      <td>0NSEZeWHkYCknk1nAVO1Fh</td>\n",
       "      <td>Better Than</td>\n",
       "      <td>Bad Self Portraits</td>\n",
       "      <td>Lake Street Dive</td>\n",
       "      <td>2014-02-18</td>\n",
       "      <td>https://i.scdn.co/image/ab67616d0000b273c48375...</td>\n",
       "      <td>2014</td>\n",
       "    </tr>\n",
       "    <tr>\n",
       "      <th>1</th>\n",
       "      <td>17ZnveSDBpG9QtL7zLJNPy</td>\n",
       "      <td>Only For You</td>\n",
       "      <td>Arrow</td>\n",
       "      <td>Heartless Bastards</td>\n",
       "      <td>2012-02-14</td>\n",
       "      <td>https://i.scdn.co/image/ab67616d0000b2737a7515...</td>\n",
       "      <td>2012</td>\n",
       "    </tr>\n",
       "    <tr>\n",
       "      <th>2</th>\n",
       "      <td>1DrlLvlYd1FIjNavRm6NdX</td>\n",
       "      <td>Back Pocket</td>\n",
       "      <td>Thrill of the Arts</td>\n",
       "      <td>Vulfpeck</td>\n",
       "      <td>2015-10-09</td>\n",
       "      <td>https://i.scdn.co/image/ab67616d0000b273d4d231...</td>\n",
       "      <td>2015</td>\n",
       "    </tr>\n",
       "    <tr>\n",
       "      <th>3</th>\n",
       "      <td>51ggEZWbFP5dMdWjGCDYTk</td>\n",
       "      <td>Dunes</td>\n",
       "      <td>Sound &amp; Color</td>\n",
       "      <td>Alabama Shakes</td>\n",
       "      <td>2015-04-21</td>\n",
       "      <td>https://i.scdn.co/image/ab67616d0000b2733ac1c6...</td>\n",
       "      <td>2015</td>\n",
       "    </tr>\n",
       "    <tr>\n",
       "      <th>4</th>\n",
       "      <td>40WXqoyOLAAugGmJWZU1FY</td>\n",
       "      <td>All The Time</td>\n",
       "      <td>Bahamas is Afie</td>\n",
       "      <td>Bahamas</td>\n",
       "      <td>2014-08-19</td>\n",
       "      <td>https://i.scdn.co/image/ab67616d0000b273f7db38...</td>\n",
       "      <td>2014</td>\n",
       "    </tr>\n",
       "  </tbody>\n",
       "</table>\n",
       "</div>"
      ],
      "text/plain": [
       "                       id          name               album  \\\n",
       "0  0NSEZeWHkYCknk1nAVO1Fh   Better Than  Bad Self Portraits   \n",
       "1  17ZnveSDBpG9QtL7zLJNPy  Only For You               Arrow   \n",
       "2  1DrlLvlYd1FIjNavRm6NdX   Back Pocket  Thrill of the Arts   \n",
       "3  51ggEZWbFP5dMdWjGCDYTk         Dunes       Sound & Color   \n",
       "4  40WXqoyOLAAugGmJWZU1FY  All The Time     Bahamas is Afie   \n",
       "\n",
       "               artist release_date  \\\n",
       "0    Lake Street Dive   2014-02-18   \n",
       "1  Heartless Bastards   2012-02-14   \n",
       "2            Vulfpeck   2015-10-09   \n",
       "3      Alabama Shakes   2015-04-21   \n",
       "4             Bahamas   2014-08-19   \n",
       "\n",
       "                                           image_url  release_year  \n",
       "0  https://i.scdn.co/image/ab67616d0000b273c48375...          2014  \n",
       "1  https://i.scdn.co/image/ab67616d0000b2737a7515...          2012  \n",
       "2  https://i.scdn.co/image/ab67616d0000b273d4d231...          2015  \n",
       "3  https://i.scdn.co/image/ab67616d0000b2733ac1c6...          2015  \n",
       "4  https://i.scdn.co/image/ab67616d0000b273f7db38...          2014  "
      ]
     },
     "execution_count": 32,
     "metadata": {},
     "output_type": "execute_result"
    }
   ],
   "source": [
    "df2.head()"
   ]
  },
  {
   "cell_type": "code",
   "execution_count": 33,
   "id": "2ef9d251",
   "metadata": {},
   "outputs": [],
   "source": [
    "#df[\"release_date\"]"
   ]
  },
  {
   "cell_type": "code",
   "execution_count": 34,
   "id": "76f2b445",
   "metadata": {},
   "outputs": [],
   "source": [
    "#This is for feature 2, it will measure the instrumentalness of music(if it's just voice or instruments)\n",
    "def Feature2():\n",
    "    bins = [0, 0.2, 0.4, 0.6, 0.8, 1] \n",
    "    labels = [1, 2, 3, 4, 5]\n",
    "    df['instru_encode'] = pd.cut(df['instrumentalness'], bins=bins, labels=labels, right=True)\n"
   ]
  },
  {
   "cell_type": "code",
   "execution_count": 35,
   "id": "2659c97d",
   "metadata": {},
   "outputs": [],
   "source": [
    "# Function for feature 3, 'energy' column will be used for \n",
    "def Feature3(energy):\n",
    "    if 0 <= energy <= 0.4:\n",
    "        return 1\n",
    "    elif 0.41 <= energy <= 0.7:\n",
    "        return 2\n",
    "    else:\n",
    "        return 3\n",
    "    \n",
    "    df['energy_encoded'] = df['energy'].apply(encode_energy)"
   ]
  },
  {
   "cell_type": "code",
   "execution_count": 36,
   "id": "743ea077",
   "metadata": {},
   "outputs": [],
   "source": [
    "df[\"release_date\"] = pd.to_datetime(df2[\"release_date\"], errors=\"coerce\")\n",
    "df[\"release_year\"] = df[\"release_date\"].dt.year\n",
    "#miniDF = df[(df[\"release_year\"] >= 2000) & (df[\"release_year\"] <= 2020)]"
   ]
  },
  {
   "cell_type": "code",
   "execution_count": 37,
   "id": "837bd46c",
   "metadata": {},
   "outputs": [
    {
     "data": {
      "text/html": [
       "<div>\n",
       "<style scoped>\n",
       "    .dataframe tbody tr th:only-of-type {\n",
       "        vertical-align: middle;\n",
       "    }\n",
       "\n",
       "    .dataframe tbody tr th {\n",
       "        vertical-align: top;\n",
       "    }\n",
       "\n",
       "    .dataframe thead th {\n",
       "        text-align: right;\n",
       "    }\n",
       "</style>\n",
       "<table border=\"1\" class=\"dataframe\">\n",
       "  <thead>\n",
       "    <tr style=\"text-align: right;\">\n",
       "      <th></th>\n",
       "      <th>id</th>\n",
       "      <th>name</th>\n",
       "      <th>popularity</th>\n",
       "      <th>duration_ms</th>\n",
       "      <th>explicit</th>\n",
       "      <th>artists</th>\n",
       "      <th>id_artists</th>\n",
       "      <th>release_date</th>\n",
       "      <th>danceability</th>\n",
       "      <th>energy</th>\n",
       "      <th>...</th>\n",
       "      <th>loudness</th>\n",
       "      <th>mode</th>\n",
       "      <th>speechiness</th>\n",
       "      <th>acousticness</th>\n",
       "      <th>instrumentalness</th>\n",
       "      <th>liveness</th>\n",
       "      <th>valence</th>\n",
       "      <th>tempo</th>\n",
       "      <th>time_signature</th>\n",
       "      <th>release_year</th>\n",
       "    </tr>\n",
       "  </thead>\n",
       "  <tbody>\n",
       "    <tr>\n",
       "      <th>0</th>\n",
       "      <td>35iwgR4jXetI318WEWsa1Q</td>\n",
       "      <td>Carve</td>\n",
       "      <td>6</td>\n",
       "      <td>126903</td>\n",
       "      <td>0</td>\n",
       "      <td>['Uli']</td>\n",
       "      <td>['45tIt06XoI0Iio4LBEVpls']</td>\n",
       "      <td>2014-02-18</td>\n",
       "      <td>0.645</td>\n",
       "      <td>0.4450</td>\n",
       "      <td>...</td>\n",
       "      <td>-13.338</td>\n",
       "      <td>1</td>\n",
       "      <td>0.4510</td>\n",
       "      <td>0.674</td>\n",
       "      <td>0.7440</td>\n",
       "      <td>0.151</td>\n",
       "      <td>0.127</td>\n",
       "      <td>104.851</td>\n",
       "      <td>3</td>\n",
       "      <td>2014.0</td>\n",
       "    </tr>\n",
       "    <tr>\n",
       "      <th>1</th>\n",
       "      <td>021ht4sdgPcrDgSk7JTbKY</td>\n",
       "      <td>Capítulo 2.16 - Banquero Anarquista</td>\n",
       "      <td>0</td>\n",
       "      <td>98200</td>\n",
       "      <td>0</td>\n",
       "      <td>['Fernando Pessoa']</td>\n",
       "      <td>['14jtPCOoNZwquk5wd9DxrY']</td>\n",
       "      <td>2012-02-14</td>\n",
       "      <td>0.695</td>\n",
       "      <td>0.2630</td>\n",
       "      <td>...</td>\n",
       "      <td>-22.136</td>\n",
       "      <td>1</td>\n",
       "      <td>0.9570</td>\n",
       "      <td>0.797</td>\n",
       "      <td>0.0000</td>\n",
       "      <td>0.148</td>\n",
       "      <td>0.655</td>\n",
       "      <td>102.009</td>\n",
       "      <td>1</td>\n",
       "      <td>2012.0</td>\n",
       "    </tr>\n",
       "    <tr>\n",
       "      <th>2</th>\n",
       "      <td>07A5yehtSnoedViJAZkNnc</td>\n",
       "      <td>Vivo para Quererte - Remasterizado</td>\n",
       "      <td>0</td>\n",
       "      <td>181640</td>\n",
       "      <td>0</td>\n",
       "      <td>['Ignacio Corsini']</td>\n",
       "      <td>['5LiOoJbxVSAMkBS2fUm3X2']</td>\n",
       "      <td>2015-10-09</td>\n",
       "      <td>0.434</td>\n",
       "      <td>0.1770</td>\n",
       "      <td>...</td>\n",
       "      <td>-21.180</td>\n",
       "      <td>1</td>\n",
       "      <td>0.0512</td>\n",
       "      <td>0.994</td>\n",
       "      <td>0.0218</td>\n",
       "      <td>0.212</td>\n",
       "      <td>0.457</td>\n",
       "      <td>130.418</td>\n",
       "      <td>5</td>\n",
       "      <td>2015.0</td>\n",
       "    </tr>\n",
       "    <tr>\n",
       "      <th>3</th>\n",
       "      <td>08FmqUhxtyLTn6pAh6bk45</td>\n",
       "      <td>El Prisionero - Remasterizado</td>\n",
       "      <td>0</td>\n",
       "      <td>176907</td>\n",
       "      <td>0</td>\n",
       "      <td>['Ignacio Corsini']</td>\n",
       "      <td>['5LiOoJbxVSAMkBS2fUm3X2']</td>\n",
       "      <td>2015-04-21</td>\n",
       "      <td>0.321</td>\n",
       "      <td>0.0946</td>\n",
       "      <td>...</td>\n",
       "      <td>-27.961</td>\n",
       "      <td>1</td>\n",
       "      <td>0.0504</td>\n",
       "      <td>0.995</td>\n",
       "      <td>0.9180</td>\n",
       "      <td>0.104</td>\n",
       "      <td>0.397</td>\n",
       "      <td>169.980</td>\n",
       "      <td>3</td>\n",
       "      <td>2015.0</td>\n",
       "    </tr>\n",
       "    <tr>\n",
       "      <th>4</th>\n",
       "      <td>08y9GfoqCWfOGsKdwojr5e</td>\n",
       "      <td>Lady of the Evening</td>\n",
       "      <td>0</td>\n",
       "      <td>163080</td>\n",
       "      <td>0</td>\n",
       "      <td>['Dick Haymes']</td>\n",
       "      <td>['3BiJGZsyX9sJchTqcSA7Su']</td>\n",
       "      <td>2014-08-19</td>\n",
       "      <td>0.402</td>\n",
       "      <td>0.1580</td>\n",
       "      <td>...</td>\n",
       "      <td>-16.900</td>\n",
       "      <td>0</td>\n",
       "      <td>0.0390</td>\n",
       "      <td>0.989</td>\n",
       "      <td>0.1300</td>\n",
       "      <td>0.311</td>\n",
       "      <td>0.196</td>\n",
       "      <td>103.220</td>\n",
       "      <td>4</td>\n",
       "      <td>2014.0</td>\n",
       "    </tr>\n",
       "  </tbody>\n",
       "</table>\n",
       "<p>5 rows × 21 columns</p>\n",
       "</div>"
      ],
      "text/plain": [
       "                       id                                 name  popularity  \\\n",
       "0  35iwgR4jXetI318WEWsa1Q                                Carve           6   \n",
       "1  021ht4sdgPcrDgSk7JTbKY  Capítulo 2.16 - Banquero Anarquista           0   \n",
       "2  07A5yehtSnoedViJAZkNnc   Vivo para Quererte - Remasterizado           0   \n",
       "3  08FmqUhxtyLTn6pAh6bk45        El Prisionero - Remasterizado           0   \n",
       "4  08y9GfoqCWfOGsKdwojr5e                  Lady of the Evening           0   \n",
       "\n",
       "   duration_ms  explicit              artists                  id_artists  \\\n",
       "0       126903         0              ['Uli']  ['45tIt06XoI0Iio4LBEVpls']   \n",
       "1        98200         0  ['Fernando Pessoa']  ['14jtPCOoNZwquk5wd9DxrY']   \n",
       "2       181640         0  ['Ignacio Corsini']  ['5LiOoJbxVSAMkBS2fUm3X2']   \n",
       "3       176907         0  ['Ignacio Corsini']  ['5LiOoJbxVSAMkBS2fUm3X2']   \n",
       "4       163080         0      ['Dick Haymes']  ['3BiJGZsyX9sJchTqcSA7Su']   \n",
       "\n",
       "  release_date  danceability  energy  ...  loudness  mode  speechiness  \\\n",
       "0   2014-02-18         0.645  0.4450  ...   -13.338     1       0.4510   \n",
       "1   2012-02-14         0.695  0.2630  ...   -22.136     1       0.9570   \n",
       "2   2015-10-09         0.434  0.1770  ...   -21.180     1       0.0512   \n",
       "3   2015-04-21         0.321  0.0946  ...   -27.961     1       0.0504   \n",
       "4   2014-08-19         0.402  0.1580  ...   -16.900     0       0.0390   \n",
       "\n",
       "   acousticness  instrumentalness  liveness  valence    tempo  time_signature  \\\n",
       "0         0.674            0.7440     0.151    0.127  104.851               3   \n",
       "1         0.797            0.0000     0.148    0.655  102.009               1   \n",
       "2         0.994            0.0218     0.212    0.457  130.418               5   \n",
       "3         0.995            0.9180     0.104    0.397  169.980               3   \n",
       "4         0.989            0.1300     0.311    0.196  103.220               4   \n",
       "\n",
       "   release_year  \n",
       "0        2014.0  \n",
       "1        2012.0  \n",
       "2        2015.0  \n",
       "3        2015.0  \n",
       "4        2014.0  \n",
       "\n",
       "[5 rows x 21 columns]"
      ]
     },
     "execution_count": 37,
     "metadata": {},
     "output_type": "execute_result"
    }
   ],
   "source": [
    "df.head()"
   ]
  },
  {
   "cell_type": "code",
   "execution_count": 55,
   "id": "4d209cf6",
   "metadata": {},
   "outputs": [],
   "source": [
    "df=df.dropna()\n",
    "df2=df2.dropna()"
   ]
  },
  {
   "cell_type": "code",
   "execution_count": 56,
   "id": "e190609d",
   "metadata": {},
   "outputs": [
    {
     "name": "stdout",
     "output_type": "stream",
     "text": [
      "<class 'pandas.core.frame.DataFrame'>\n",
      "Int64Index: 146 entries, 0 to 145\n",
      "Data columns (total 21 columns):\n",
      " #   Column            Non-Null Count  Dtype         \n",
      "---  ------            --------------  -----         \n",
      " 0   id                146 non-null    object        \n",
      " 1   name              146 non-null    object        \n",
      " 2   popularity        146 non-null    int64         \n",
      " 3   duration_ms       146 non-null    int64         \n",
      " 4   explicit          146 non-null    int64         \n",
      " 5   artists           146 non-null    object        \n",
      " 6   id_artists        146 non-null    object        \n",
      " 7   release_date      146 non-null    datetime64[ns]\n",
      " 8   danceability      146 non-null    float64       \n",
      " 9   energy            146 non-null    float64       \n",
      " 10  key               146 non-null    int64         \n",
      " 11  loudness          146 non-null    float64       \n",
      " 12  mode              146 non-null    int64         \n",
      " 13  speechiness       146 non-null    float64       \n",
      " 14  acousticness      146 non-null    float64       \n",
      " 15  instrumentalness  146 non-null    float64       \n",
      " 16  liveness          146 non-null    float64       \n",
      " 17  valence           146 non-null    float64       \n",
      " 18  tempo             146 non-null    float64       \n",
      " 19  time_signature    146 non-null    int64         \n",
      " 20  release_year      146 non-null    float64       \n",
      "dtypes: datetime64[ns](1), float64(10), int64(6), object(4)\n",
      "memory usage: 25.1+ KB\n"
     ]
    }
   ],
   "source": [
    "df.info()"
   ]
  },
  {
   "cell_type": "code",
   "execution_count": 57,
   "id": "11ff96ba",
   "metadata": {},
   "outputs": [
    {
     "name": "stdout",
     "output_type": "stream",
     "text": [
      "<class 'pandas.core.frame.DataFrame'>\n",
      "RangeIndex: 146 entries, 0 to 145\n",
      "Data columns (total 7 columns):\n",
      " #   Column        Non-Null Count  Dtype         \n",
      "---  ------        --------------  -----         \n",
      " 0   id            146 non-null    object        \n",
      " 1   name          146 non-null    object        \n",
      " 2   album         146 non-null    object        \n",
      " 3   artist        146 non-null    object        \n",
      " 4   release_date  146 non-null    datetime64[ns]\n",
      " 5   image_url     146 non-null    object        \n",
      " 6   release_year  146 non-null    int64         \n",
      "dtypes: datetime64[ns](1), int64(1), object(5)\n",
      "memory usage: 8.1+ KB\n"
     ]
    }
   ],
   "source": [
    "df2.info()"
   ]
  },
  {
   "cell_type": "markdown",
   "id": "3942d383",
   "metadata": {},
   "source": [
    "# DBSCAN"
   ]
  },
  {
   "cell_type": "code",
   "execution_count": 49,
   "id": "131d85a6",
   "metadata": {},
   "outputs": [],
   "source": [
    "X = df[['loudness', 'speechiness', 'release_year']]"
   ]
  },
  {
   "cell_type": "code",
   "execution_count": 50,
   "id": "e8254411",
   "metadata": {},
   "outputs": [],
   "source": [
    "X = X[0:1000]"
   ]
  },
  {
   "cell_type": "code",
   "execution_count": 51,
   "id": "8cb59548",
   "metadata": {},
   "outputs": [
    {
     "name": "stdout",
     "output_type": "stream",
     "text": [
      "<class 'pandas.core.frame.DataFrame'>\n",
      "Int64Index: 1000 entries, 0 to 999\n",
      "Data columns (total 3 columns):\n",
      " #   Column        Non-Null Count  Dtype  \n",
      "---  ------        --------------  -----  \n",
      " 0   loudness      1000 non-null   float64\n",
      " 1   speechiness   1000 non-null   float64\n",
      " 2   release_year  146 non-null    float64\n",
      "dtypes: float64(3)\n",
      "memory usage: 31.2 KB\n"
     ]
    }
   ],
   "source": [
    "X.info()"
   ]
  },
  {
   "cell_type": "code",
   "execution_count": 52,
   "id": "4e812c85",
   "metadata": {},
   "outputs": [
    {
     "ename": "ValueError",
     "evalue": "Input contains NaN, infinity or a value too large for dtype('float64').",
     "output_type": "error",
     "traceback": [
      "\u001b[1;31m---------------------------------------------------------------------------\u001b[0m",
      "\u001b[1;31mValueError\u001b[0m                                Traceback (most recent call last)",
      "\u001b[1;32m~\\AppData\\Local\\Temp\\ipykernel_1848\\755290066.py\u001b[0m in \u001b[0;36m<module>\u001b[1;34m\u001b[0m\n\u001b[1;32m----> 1\u001b[1;33m \u001b[0mmodel\u001b[0m \u001b[1;33m=\u001b[0m \u001b[0mDBSCAN\u001b[0m\u001b[1;33m(\u001b[0m\u001b[0meps\u001b[0m\u001b[1;33m=\u001b[0m\u001b[1;36m0.5\u001b[0m\u001b[1;33m,\u001b[0m \u001b[0mmin_samples\u001b[0m\u001b[1;33m=\u001b[0m\u001b[1;36m2\u001b[0m\u001b[1;33m)\u001b[0m\u001b[1;33m.\u001b[0m\u001b[0mfit\u001b[0m\u001b[1;33m(\u001b[0m\u001b[0mX\u001b[0m\u001b[1;33m)\u001b[0m\u001b[1;33m\u001b[0m\u001b[1;33m\u001b[0m\u001b[0m\n\u001b[0m",
      "\u001b[1;32mC:\\ProgramData\\Anaconda3\\lib\\site-packages\\sklearn\\cluster\\_dbscan.py\u001b[0m in \u001b[0;36mfit\u001b[1;34m(self, X, y, sample_weight)\u001b[0m\n\u001b[0;32m    344\u001b[0m             \u001b[0mReturns\u001b[0m \u001b[0ma\u001b[0m \u001b[0mfitted\u001b[0m \u001b[0minstance\u001b[0m \u001b[0mof\u001b[0m \u001b[0mself\u001b[0m\u001b[1;33m.\u001b[0m\u001b[1;33m\u001b[0m\u001b[1;33m\u001b[0m\u001b[0m\n\u001b[0;32m    345\u001b[0m         \"\"\"\n\u001b[1;32m--> 346\u001b[1;33m         \u001b[0mX\u001b[0m \u001b[1;33m=\u001b[0m \u001b[0mself\u001b[0m\u001b[1;33m.\u001b[0m\u001b[0m_validate_data\u001b[0m\u001b[1;33m(\u001b[0m\u001b[0mX\u001b[0m\u001b[1;33m,\u001b[0m \u001b[0maccept_sparse\u001b[0m\u001b[1;33m=\u001b[0m\u001b[1;34m\"csr\"\u001b[0m\u001b[1;33m)\u001b[0m\u001b[1;33m\u001b[0m\u001b[1;33m\u001b[0m\u001b[0m\n\u001b[0m\u001b[0;32m    347\u001b[0m \u001b[1;33m\u001b[0m\u001b[0m\n\u001b[0;32m    348\u001b[0m         \u001b[1;32mif\u001b[0m \u001b[1;32mnot\u001b[0m \u001b[0mself\u001b[0m\u001b[1;33m.\u001b[0m\u001b[0meps\u001b[0m \u001b[1;33m>\u001b[0m \u001b[1;36m0.0\u001b[0m\u001b[1;33m:\u001b[0m\u001b[1;33m\u001b[0m\u001b[1;33m\u001b[0m\u001b[0m\n",
      "\u001b[1;32mC:\\ProgramData\\Anaconda3\\lib\\site-packages\\sklearn\\base.py\u001b[0m in \u001b[0;36m_validate_data\u001b[1;34m(self, X, y, reset, validate_separately, **check_params)\u001b[0m\n\u001b[0;32m    564\u001b[0m             \u001b[1;32mraise\u001b[0m \u001b[0mValueError\u001b[0m\u001b[1;33m(\u001b[0m\u001b[1;34m\"Validation should be done on X, y or both.\"\u001b[0m\u001b[1;33m)\u001b[0m\u001b[1;33m\u001b[0m\u001b[1;33m\u001b[0m\u001b[0m\n\u001b[0;32m    565\u001b[0m         \u001b[1;32melif\u001b[0m \u001b[1;32mnot\u001b[0m \u001b[0mno_val_X\u001b[0m \u001b[1;32mand\u001b[0m \u001b[0mno_val_y\u001b[0m\u001b[1;33m:\u001b[0m\u001b[1;33m\u001b[0m\u001b[1;33m\u001b[0m\u001b[0m\n\u001b[1;32m--> 566\u001b[1;33m             \u001b[0mX\u001b[0m \u001b[1;33m=\u001b[0m \u001b[0mcheck_array\u001b[0m\u001b[1;33m(\u001b[0m\u001b[0mX\u001b[0m\u001b[1;33m,\u001b[0m \u001b[1;33m**\u001b[0m\u001b[0mcheck_params\u001b[0m\u001b[1;33m)\u001b[0m\u001b[1;33m\u001b[0m\u001b[1;33m\u001b[0m\u001b[0m\n\u001b[0m\u001b[0;32m    567\u001b[0m             \u001b[0mout\u001b[0m \u001b[1;33m=\u001b[0m \u001b[0mX\u001b[0m\u001b[1;33m\u001b[0m\u001b[1;33m\u001b[0m\u001b[0m\n\u001b[0;32m    568\u001b[0m         \u001b[1;32melif\u001b[0m \u001b[0mno_val_X\u001b[0m \u001b[1;32mand\u001b[0m \u001b[1;32mnot\u001b[0m \u001b[0mno_val_y\u001b[0m\u001b[1;33m:\u001b[0m\u001b[1;33m\u001b[0m\u001b[1;33m\u001b[0m\u001b[0m\n",
      "\u001b[1;32mC:\\ProgramData\\Anaconda3\\lib\\site-packages\\sklearn\\utils\\validation.py\u001b[0m in \u001b[0;36mcheck_array\u001b[1;34m(array, accept_sparse, accept_large_sparse, dtype, order, copy, force_all_finite, ensure_2d, allow_nd, ensure_min_samples, ensure_min_features, estimator)\u001b[0m\n\u001b[0;32m    798\u001b[0m \u001b[1;33m\u001b[0m\u001b[0m\n\u001b[0;32m    799\u001b[0m         \u001b[1;32mif\u001b[0m \u001b[0mforce_all_finite\u001b[0m\u001b[1;33m:\u001b[0m\u001b[1;33m\u001b[0m\u001b[1;33m\u001b[0m\u001b[0m\n\u001b[1;32m--> 800\u001b[1;33m             \u001b[0m_assert_all_finite\u001b[0m\u001b[1;33m(\u001b[0m\u001b[0marray\u001b[0m\u001b[1;33m,\u001b[0m \u001b[0mallow_nan\u001b[0m\u001b[1;33m=\u001b[0m\u001b[0mforce_all_finite\u001b[0m \u001b[1;33m==\u001b[0m \u001b[1;34m\"allow-nan\"\u001b[0m\u001b[1;33m)\u001b[0m\u001b[1;33m\u001b[0m\u001b[1;33m\u001b[0m\u001b[0m\n\u001b[0m\u001b[0;32m    801\u001b[0m \u001b[1;33m\u001b[0m\u001b[0m\n\u001b[0;32m    802\u001b[0m     \u001b[1;32mif\u001b[0m \u001b[0mensure_min_samples\u001b[0m \u001b[1;33m>\u001b[0m \u001b[1;36m0\u001b[0m\u001b[1;33m:\u001b[0m\u001b[1;33m\u001b[0m\u001b[1;33m\u001b[0m\u001b[0m\n",
      "\u001b[1;32mC:\\ProgramData\\Anaconda3\\lib\\site-packages\\sklearn\\utils\\validation.py\u001b[0m in \u001b[0;36m_assert_all_finite\u001b[1;34m(X, allow_nan, msg_dtype)\u001b[0m\n\u001b[0;32m    112\u001b[0m         ):\n\u001b[0;32m    113\u001b[0m             \u001b[0mtype_err\u001b[0m \u001b[1;33m=\u001b[0m \u001b[1;34m\"infinity\"\u001b[0m \u001b[1;32mif\u001b[0m \u001b[0mallow_nan\u001b[0m \u001b[1;32melse\u001b[0m \u001b[1;34m\"NaN, infinity\"\u001b[0m\u001b[1;33m\u001b[0m\u001b[1;33m\u001b[0m\u001b[0m\n\u001b[1;32m--> 114\u001b[1;33m             raise ValueError(\n\u001b[0m\u001b[0;32m    115\u001b[0m                 msg_err.format(\n\u001b[0;32m    116\u001b[0m                     \u001b[0mtype_err\u001b[0m\u001b[1;33m,\u001b[0m \u001b[0mmsg_dtype\u001b[0m \u001b[1;32mif\u001b[0m \u001b[0mmsg_dtype\u001b[0m \u001b[1;32mis\u001b[0m \u001b[1;32mnot\u001b[0m \u001b[1;32mNone\u001b[0m \u001b[1;32melse\u001b[0m \u001b[0mX\u001b[0m\u001b[1;33m.\u001b[0m\u001b[0mdtype\u001b[0m\u001b[1;33m\u001b[0m\u001b[1;33m\u001b[0m\u001b[0m\n",
      "\u001b[1;31mValueError\u001b[0m: Input contains NaN, infinity or a value too large for dtype('float64')."
     ]
    }
   ],
   "source": [
    "model = DBSCAN(eps=0.5, min_samples=2).fit(X)"
   ]
  },
  {
   "cell_type": "code",
   "execution_count": 47,
   "id": "1aab4620",
   "metadata": {},
   "outputs": [
    {
     "ename": "NameError",
     "evalue": "name 'model' is not defined",
     "output_type": "error",
     "traceback": [
      "\u001b[1;31m---------------------------------------------------------------------------\u001b[0m",
      "\u001b[1;31mNameError\u001b[0m                                 Traceback (most recent call last)",
      "\u001b[1;32m~\\AppData\\Local\\Temp\\ipykernel_1848\\2032641180.py\u001b[0m in \u001b[0;36m<module>\u001b[1;34m\u001b[0m\n\u001b[1;32m----> 1\u001b[1;33m \u001b[0mX\u001b[0m\u001b[1;33m[\u001b[0m\u001b[1;34m'Labels'\u001b[0m\u001b[1;33m]\u001b[0m \u001b[1;33m=\u001b[0m \u001b[0mmodel\u001b[0m\u001b[1;33m.\u001b[0m\u001b[0mlabels_\u001b[0m\u001b[1;33m\u001b[0m\u001b[1;33m\u001b[0m\u001b[0m\n\u001b[0m",
      "\u001b[1;31mNameError\u001b[0m: name 'model' is not defined"
     ]
    }
   ],
   "source": [
    "X['Labels'] = model.labels_"
   ]
  },
  {
   "cell_type": "code",
   "execution_count": 44,
   "id": "20bec8e7",
   "metadata": {},
   "outputs": [
    {
     "data": {
      "text/html": [
       "<div>\n",
       "<style scoped>\n",
       "    .dataframe tbody tr th:only-of-type {\n",
       "        vertical-align: middle;\n",
       "    }\n",
       "\n",
       "    .dataframe tbody tr th {\n",
       "        vertical-align: top;\n",
       "    }\n",
       "\n",
       "    .dataframe thead th {\n",
       "        text-align: right;\n",
       "    }\n",
       "</style>\n",
       "<table border=\"1\" class=\"dataframe\">\n",
       "  <thead>\n",
       "    <tr style=\"text-align: right;\">\n",
       "      <th></th>\n",
       "      <th>loudness</th>\n",
       "      <th>speechiness</th>\n",
       "      <th>release_year</th>\n",
       "    </tr>\n",
       "  </thead>\n",
       "  <tbody>\n",
       "    <tr>\n",
       "      <th>0</th>\n",
       "      <td>-13.338</td>\n",
       "      <td>0.4510</td>\n",
       "      <td>2014.0</td>\n",
       "    </tr>\n",
       "    <tr>\n",
       "      <th>1</th>\n",
       "      <td>-22.136</td>\n",
       "      <td>0.9570</td>\n",
       "      <td>2012.0</td>\n",
       "    </tr>\n",
       "    <tr>\n",
       "      <th>2</th>\n",
       "      <td>-21.180</td>\n",
       "      <td>0.0512</td>\n",
       "      <td>2015.0</td>\n",
       "    </tr>\n",
       "    <tr>\n",
       "      <th>3</th>\n",
       "      <td>-27.961</td>\n",
       "      <td>0.0504</td>\n",
       "      <td>2015.0</td>\n",
       "    </tr>\n",
       "    <tr>\n",
       "      <th>4</th>\n",
       "      <td>-16.900</td>\n",
       "      <td>0.0390</td>\n",
       "      <td>2014.0</td>\n",
       "    </tr>\n",
       "  </tbody>\n",
       "</table>\n",
       "</div>"
      ],
      "text/plain": [
       "   loudness  speechiness  release_year\n",
       "0   -13.338       0.4510        2014.0\n",
       "1   -22.136       0.9570        2012.0\n",
       "2   -21.180       0.0512        2015.0\n",
       "3   -27.961       0.0504        2015.0\n",
       "4   -16.900       0.0390        2014.0"
      ]
     },
     "execution_count": 44,
     "metadata": {},
     "output_type": "execute_result"
    }
   ],
   "source": [
    "X.head()"
   ]
  },
  {
   "cell_type": "code",
   "execution_count": 58,
   "id": "dcf91f17",
   "metadata": {},
   "outputs": [
    {
     "ename": "ValueError",
     "evalue": "Could not interpret value `Labels` for parameter `hue`",
     "output_type": "error",
     "traceback": [
      "\u001b[1;31m---------------------------------------------------------------------------\u001b[0m",
      "\u001b[1;31mValueError\u001b[0m                                Traceback (most recent call last)",
      "\u001b[1;32m~\\AppData\\Local\\Temp\\ipykernel_1848\\2841495808.py\u001b[0m in \u001b[0;36m<module>\u001b[1;34m\u001b[0m\n\u001b[0;32m      1\u001b[0m \u001b[1;32mimport\u001b[0m \u001b[0mseaborn\u001b[0m \u001b[1;32mas\u001b[0m \u001b[0msns\u001b[0m\u001b[1;33m\u001b[0m\u001b[1;33m\u001b[0m\u001b[0m\n\u001b[1;32m----> 2\u001b[1;33m \u001b[0msns\u001b[0m\u001b[1;33m.\u001b[0m\u001b[0mscatterplot\u001b[0m\u001b[1;33m(\u001b[0m\u001b[0mdata\u001b[0m\u001b[1;33m=\u001b[0m\u001b[0mX\u001b[0m\u001b[1;33m,\u001b[0m \u001b[0mx\u001b[0m\u001b[1;33m=\u001b[0m\u001b[1;34m\"loudness\"\u001b[0m\u001b[1;33m,\u001b[0m \u001b[0my\u001b[0m\u001b[1;33m=\u001b[0m\u001b[1;34m\"speechiness\"\u001b[0m\u001b[1;33m,\u001b[0m \u001b[0mhue\u001b[0m\u001b[1;33m=\u001b[0m\u001b[1;34m'Labels'\u001b[0m\u001b[1;33m)\u001b[0m\u001b[1;33m\u001b[0m\u001b[1;33m\u001b[0m\u001b[0m\n\u001b[0m",
      "\u001b[1;32mC:\\ProgramData\\Anaconda3\\lib\\site-packages\\seaborn\\_decorators.py\u001b[0m in \u001b[0;36minner_f\u001b[1;34m(*args, **kwargs)\u001b[0m\n\u001b[0;32m     44\u001b[0m             )\n\u001b[0;32m     45\u001b[0m         \u001b[0mkwargs\u001b[0m\u001b[1;33m.\u001b[0m\u001b[0mupdate\u001b[0m\u001b[1;33m(\u001b[0m\u001b[1;33m{\u001b[0m\u001b[0mk\u001b[0m\u001b[1;33m:\u001b[0m \u001b[0marg\u001b[0m \u001b[1;32mfor\u001b[0m \u001b[0mk\u001b[0m\u001b[1;33m,\u001b[0m \u001b[0marg\u001b[0m \u001b[1;32min\u001b[0m \u001b[0mzip\u001b[0m\u001b[1;33m(\u001b[0m\u001b[0msig\u001b[0m\u001b[1;33m.\u001b[0m\u001b[0mparameters\u001b[0m\u001b[1;33m,\u001b[0m \u001b[0margs\u001b[0m\u001b[1;33m)\u001b[0m\u001b[1;33m}\u001b[0m\u001b[1;33m)\u001b[0m\u001b[1;33m\u001b[0m\u001b[1;33m\u001b[0m\u001b[0m\n\u001b[1;32m---> 46\u001b[1;33m         \u001b[1;32mreturn\u001b[0m \u001b[0mf\u001b[0m\u001b[1;33m(\u001b[0m\u001b[1;33m**\u001b[0m\u001b[0mkwargs\u001b[0m\u001b[1;33m)\u001b[0m\u001b[1;33m\u001b[0m\u001b[1;33m\u001b[0m\u001b[0m\n\u001b[0m\u001b[0;32m     47\u001b[0m     \u001b[1;32mreturn\u001b[0m \u001b[0minner_f\u001b[0m\u001b[1;33m\u001b[0m\u001b[1;33m\u001b[0m\u001b[0m\n\u001b[0;32m     48\u001b[0m \u001b[1;33m\u001b[0m\u001b[0m\n",
      "\u001b[1;32mC:\\ProgramData\\Anaconda3\\lib\\site-packages\\seaborn\\relational.py\u001b[0m in \u001b[0;36mscatterplot\u001b[1;34m(x, y, hue, style, size, data, palette, hue_order, hue_norm, sizes, size_order, size_norm, markers, style_order, x_bins, y_bins, units, estimator, ci, n_boot, alpha, x_jitter, y_jitter, legend, ax, **kwargs)\u001b[0m\n\u001b[0;32m    806\u001b[0m \u001b[1;33m\u001b[0m\u001b[0m\n\u001b[0;32m    807\u001b[0m     \u001b[0mvariables\u001b[0m \u001b[1;33m=\u001b[0m \u001b[0m_ScatterPlotter\u001b[0m\u001b[1;33m.\u001b[0m\u001b[0mget_semantics\u001b[0m\u001b[1;33m(\u001b[0m\u001b[0mlocals\u001b[0m\u001b[1;33m(\u001b[0m\u001b[1;33m)\u001b[0m\u001b[1;33m)\u001b[0m\u001b[1;33m\u001b[0m\u001b[1;33m\u001b[0m\u001b[0m\n\u001b[1;32m--> 808\u001b[1;33m     p = _ScatterPlotter(\n\u001b[0m\u001b[0;32m    809\u001b[0m         \u001b[0mdata\u001b[0m\u001b[1;33m=\u001b[0m\u001b[0mdata\u001b[0m\u001b[1;33m,\u001b[0m \u001b[0mvariables\u001b[0m\u001b[1;33m=\u001b[0m\u001b[0mvariables\u001b[0m\u001b[1;33m,\u001b[0m\u001b[1;33m\u001b[0m\u001b[1;33m\u001b[0m\u001b[0m\n\u001b[0;32m    810\u001b[0m         \u001b[0mx_bins\u001b[0m\u001b[1;33m=\u001b[0m\u001b[0mx_bins\u001b[0m\u001b[1;33m,\u001b[0m \u001b[0my_bins\u001b[0m\u001b[1;33m=\u001b[0m\u001b[0my_bins\u001b[0m\u001b[1;33m,\u001b[0m\u001b[1;33m\u001b[0m\u001b[1;33m\u001b[0m\u001b[0m\n",
      "\u001b[1;32mC:\\ProgramData\\Anaconda3\\lib\\site-packages\\seaborn\\relational.py\u001b[0m in \u001b[0;36m__init__\u001b[1;34m(self, data, variables, x_bins, y_bins, estimator, ci, n_boot, alpha, x_jitter, y_jitter, legend)\u001b[0m\n\u001b[0;32m    585\u001b[0m         )\n\u001b[0;32m    586\u001b[0m \u001b[1;33m\u001b[0m\u001b[0m\n\u001b[1;32m--> 587\u001b[1;33m         \u001b[0msuper\u001b[0m\u001b[1;33m(\u001b[0m\u001b[1;33m)\u001b[0m\u001b[1;33m.\u001b[0m\u001b[0m__init__\u001b[0m\u001b[1;33m(\u001b[0m\u001b[0mdata\u001b[0m\u001b[1;33m=\u001b[0m\u001b[0mdata\u001b[0m\u001b[1;33m,\u001b[0m \u001b[0mvariables\u001b[0m\u001b[1;33m=\u001b[0m\u001b[0mvariables\u001b[0m\u001b[1;33m)\u001b[0m\u001b[1;33m\u001b[0m\u001b[1;33m\u001b[0m\u001b[0m\n\u001b[0m\u001b[0;32m    588\u001b[0m \u001b[1;33m\u001b[0m\u001b[0m\n\u001b[0;32m    589\u001b[0m         \u001b[0mself\u001b[0m\u001b[1;33m.\u001b[0m\u001b[0malpha\u001b[0m \u001b[1;33m=\u001b[0m \u001b[0malpha\u001b[0m\u001b[1;33m\u001b[0m\u001b[1;33m\u001b[0m\u001b[0m\n",
      "\u001b[1;32mC:\\ProgramData\\Anaconda3\\lib\\site-packages\\seaborn\\_core.py\u001b[0m in \u001b[0;36m__init__\u001b[1;34m(self, data, variables)\u001b[0m\n\u001b[0;32m    603\u001b[0m     \u001b[1;32mdef\u001b[0m \u001b[0m__init__\u001b[0m\u001b[1;33m(\u001b[0m\u001b[0mself\u001b[0m\u001b[1;33m,\u001b[0m \u001b[0mdata\u001b[0m\u001b[1;33m=\u001b[0m\u001b[1;32mNone\u001b[0m\u001b[1;33m,\u001b[0m \u001b[0mvariables\u001b[0m\u001b[1;33m=\u001b[0m\u001b[1;33m{\u001b[0m\u001b[1;33m}\u001b[0m\u001b[1;33m)\u001b[0m\u001b[1;33m:\u001b[0m\u001b[1;33m\u001b[0m\u001b[1;33m\u001b[0m\u001b[0m\n\u001b[0;32m    604\u001b[0m \u001b[1;33m\u001b[0m\u001b[0m\n\u001b[1;32m--> 605\u001b[1;33m         \u001b[0mself\u001b[0m\u001b[1;33m.\u001b[0m\u001b[0massign_variables\u001b[0m\u001b[1;33m(\u001b[0m\u001b[0mdata\u001b[0m\u001b[1;33m,\u001b[0m \u001b[0mvariables\u001b[0m\u001b[1;33m)\u001b[0m\u001b[1;33m\u001b[0m\u001b[1;33m\u001b[0m\u001b[0m\n\u001b[0m\u001b[0;32m    606\u001b[0m \u001b[1;33m\u001b[0m\u001b[0m\n\u001b[0;32m    607\u001b[0m         \u001b[1;32mfor\u001b[0m \u001b[0mvar\u001b[0m\u001b[1;33m,\u001b[0m \u001b[0mcls\u001b[0m \u001b[1;32min\u001b[0m \u001b[0mself\u001b[0m\u001b[1;33m.\u001b[0m\u001b[0m_semantic_mappings\u001b[0m\u001b[1;33m.\u001b[0m\u001b[0mitems\u001b[0m\u001b[1;33m(\u001b[0m\u001b[1;33m)\u001b[0m\u001b[1;33m:\u001b[0m\u001b[1;33m\u001b[0m\u001b[1;33m\u001b[0m\u001b[0m\n",
      "\u001b[1;32mC:\\ProgramData\\Anaconda3\\lib\\site-packages\\seaborn\\_core.py\u001b[0m in \u001b[0;36massign_variables\u001b[1;34m(self, data, variables)\u001b[0m\n\u001b[0;32m    666\u001b[0m         \u001b[1;32melse\u001b[0m\u001b[1;33m:\u001b[0m\u001b[1;33m\u001b[0m\u001b[1;33m\u001b[0m\u001b[0m\n\u001b[0;32m    667\u001b[0m             \u001b[0mself\u001b[0m\u001b[1;33m.\u001b[0m\u001b[0minput_format\u001b[0m \u001b[1;33m=\u001b[0m \u001b[1;34m\"long\"\u001b[0m\u001b[1;33m\u001b[0m\u001b[1;33m\u001b[0m\u001b[0m\n\u001b[1;32m--> 668\u001b[1;33m             plot_data, variables = self._assign_variables_longform(\n\u001b[0m\u001b[0;32m    669\u001b[0m                 \u001b[0mdata\u001b[0m\u001b[1;33m,\u001b[0m \u001b[1;33m**\u001b[0m\u001b[0mvariables\u001b[0m\u001b[1;33m,\u001b[0m\u001b[1;33m\u001b[0m\u001b[1;33m\u001b[0m\u001b[0m\n\u001b[0;32m    670\u001b[0m             )\n",
      "\u001b[1;32mC:\\ProgramData\\Anaconda3\\lib\\site-packages\\seaborn\\_core.py\u001b[0m in \u001b[0;36m_assign_variables_longform\u001b[1;34m(self, data, **kwargs)\u001b[0m\n\u001b[0;32m    901\u001b[0m \u001b[1;33m\u001b[0m\u001b[0m\n\u001b[0;32m    902\u001b[0m                 \u001b[0merr\u001b[0m \u001b[1;33m=\u001b[0m \u001b[1;34mf\"Could not interpret value `{val}` for parameter `{key}`\"\u001b[0m\u001b[1;33m\u001b[0m\u001b[1;33m\u001b[0m\u001b[0m\n\u001b[1;32m--> 903\u001b[1;33m                 \u001b[1;32mraise\u001b[0m \u001b[0mValueError\u001b[0m\u001b[1;33m(\u001b[0m\u001b[0merr\u001b[0m\u001b[1;33m)\u001b[0m\u001b[1;33m\u001b[0m\u001b[1;33m\u001b[0m\u001b[0m\n\u001b[0m\u001b[0;32m    904\u001b[0m \u001b[1;33m\u001b[0m\u001b[0m\n\u001b[0;32m    905\u001b[0m             \u001b[1;32melse\u001b[0m\u001b[1;33m:\u001b[0m\u001b[1;33m\u001b[0m\u001b[1;33m\u001b[0m\u001b[0m\n",
      "\u001b[1;31mValueError\u001b[0m: Could not interpret value `Labels` for parameter `hue`"
     ]
    }
   ],
   "source": [
    "import seaborn as sns\n",
    "sns.scatterplot(data=X, x=\"loudness\", y=\"speechiness\", hue='Labels')\n"
   ]
  },
  {
   "cell_type": "code",
   "execution_count": null,
   "id": "1e3e7d10",
   "metadata": {},
   "outputs": [],
   "source": []
  },
  {
   "cell_type": "code",
   "execution_count": null,
   "id": "931f5348",
   "metadata": {},
   "outputs": [],
   "source": []
  }
 ],
 "metadata": {
  "kernelspec": {
   "display_name": "Python 3 (ipykernel)",
   "language": "python",
   "name": "python3"
  },
  "language_info": {
   "codemirror_mode": {
    "name": "ipython",
    "version": 3
   },
   "file_extension": ".py",
   "mimetype": "text/x-python",
   "name": "python",
   "nbconvert_exporter": "python",
   "pygments_lexer": "ipython3",
   "version": "3.9.13"
  }
 },
 "nbformat": 4,
 "nbformat_minor": 5
}
