{
 "cells": [
  {
   "cell_type": "code",
   "execution_count": 1,
   "id": "963b91a2",
   "metadata": {},
   "outputs": [],
   "source": [
    "import pandas as pd\n",
    "import seaborn as sn\n",
    "import numpy as np\n",
    "import json"
   ]
  },
  {
   "cell_type": "code",
   "execution_count": 2,
   "id": "18044d77",
   "metadata": {},
   "outputs": [],
   "source": [
    "def makeTHATdf():\n",
    "    df = pd.read_csv(\"tracks.csv\")\n",
    "    df = df.dropna()\n",
    "    return df"
   ]
  },
  {
   "cell_type": "code",
   "execution_count": 13,
   "id": "c88de87a",
   "metadata": {},
   "outputs": [],
   "source": [
    "#makeTHATdf(); FUN fact, the \";\" supresses the output of data!....."
   ]
  },
  {
   "cell_type": "code",
   "execution_count": 4,
   "id": "46e5653e",
   "metadata": {},
   "outputs": [],
   "source": [
    "#df = makeTHATdf()"
   ]
  },
  {
   "cell_type": "code",
   "execution_count": 5,
   "id": "0833e614",
   "metadata": {},
   "outputs": [],
   "source": [
    "#df"
   ]
  },
  {
   "cell_type": "markdown",
   "id": "977c304b",
   "metadata": {},
   "source": [
    "# This is for Ms.Spindt's vetting playlist"
   ]
  },
  {
   "cell_type": "code",
   "execution_count": 6,
   "id": "f78df8ae",
   "metadata": {},
   "outputs": [],
   "source": [
    "#df2 = pd.read_json(\"vetting_playlist.json\")"
   ]
  },
  {
   "cell_type": "code",
   "execution_count": 7,
   "id": "493d669f",
   "metadata": {},
   "outputs": [],
   "source": [
    "def VettingPL():\n",
    "    with open(\"vetting_playlist.json\", 'r') as file:\n",
    "        data = json.load(file)\n",
    "    \n",
    "    data.keys()\n",
    "    floridaKeys = data.keys()\n",
    "    \n",
    "    songs = []\n",
    "    \n",
    "    for item in data.get(\"tracks\", {}).get(\"items\", []):\n",
    "        track = item.get(\"track\", None)\n",
    "        if track:\n",
    "            song_info = {\n",
    "                \"id\": track.get(\"id\"),\n",
    "                \"name\": track.get(\"name\"),\n",
    "                \"album\": track.get(\"album\", {}).get(\"name\"),\n",
    "                \"artist\": track.get(\"album\", {}).get(\"artists\", [{}])[0].get(\"name\"),\n",
    "                \"release_date\": track.get(\"album\", {}).get(\"release_date\"),\n",
    "                \"image_url\": track.get(\"album\", {}).get(\"images\", [{}])[0].get(\"url\")\n",
    "            }\n",
    "            songs.append(song_info)\n",
    "\n",
    "    df2 = pd.DataFrame(songs)\n",
    "    return df2"
   ]
  },
  {
   "cell_type": "code",
   "execution_count": 8,
   "id": "137d1d1d",
   "metadata": {},
   "outputs": [],
   "source": [
    "#df2 = VettingPL()"
   ]
  },
  {
   "cell_type": "code",
   "execution_count": 9,
   "id": "5621b17e",
   "metadata": {},
   "outputs": [],
   "source": [
    "#df2.info()"
   ]
  },
  {
   "cell_type": "markdown",
   "id": "ad53de00",
   "metadata": {},
   "source": [
    "# 1st Feature! This is getting the years from the release dates in order to find the songs that are within the\n",
    "prefered time range which was around 2010~ish"
   ]
  },
  {
   "cell_type": "code",
   "execution_count": 18,
   "id": "86e4198d",
   "metadata": {},
   "outputs": [],
   "source": [
    "def Feature1():\n",
    "    df[\"release_date\"] = pd.to_datetime(df[\"release_date\"], errors=\"coerce\")\n",
    "    df[\"release_year\"] = df[\"release_date\"].dt.year\n",
    "    miniDF = df[(df[\"release_year\"] >= 2000) & (df[\"release_year\"] <= 2020)]"
   ]
  },
  {
   "cell_type": "code",
   "execution_count": 19,
   "id": "2ef9d251",
   "metadata": {},
   "outputs": [],
   "source": [
    "#df[\"release_date\"]"
   ]
  },
  {
   "cell_type": "code",
   "execution_count": 20,
   "id": "76f2b445",
   "metadata": {},
   "outputs": [
    {
     "ename": "IndentationError",
     "evalue": "expected an indented block (36088147.py, line 3)",
     "output_type": "error",
     "traceback": [
      "\u001b[1;36m  File \u001b[1;32m\"C:\\Users\\hgraoui\\AppData\\Local\\Temp\\ipykernel_18112\\36088147.py\"\u001b[1;36m, line \u001b[1;32m3\u001b[0m\n\u001b[1;33m    bins = [0, 0.2, 0.4, 0.6, 0.8, 1]\u001b[0m\n\u001b[1;37m    ^\u001b[0m\n\u001b[1;31mIndentationError\u001b[0m\u001b[1;31m:\u001b[0m expected an indented block\n"
     ]
    }
   ],
   "source": [
    "    #This is for feature 2, it will measure the instrumentalness of music(if it's just voice or instruments)\n",
    "def Feature2():\n",
    "    bins = [0, 0.2, 0.4, 0.6, 0.8, 1] \n",
    "    labels = [1, 2, 3, 4, 5]\n",
    "    df['instru_encode'] = pd.cut(df['instrumentalness'], bins=bins, labels=labels, right=True)"
   ]
  },
  {
   "cell_type": "code",
   "execution_count": 21,
   "id": "2659c97d",
   "metadata": {},
   "outputs": [
    {
     "ename": "SyntaxError",
     "evalue": "invalid syntax (2680538975.py, line 2)",
     "output_type": "error",
     "traceback": [
      "\u001b[1;36m  File \u001b[1;32m\"C:\\Users\\hgraoui\\AppData\\Local\\Temp\\ipykernel_18112\\2680538975.py\"\u001b[1;36m, line \u001b[1;32m2\u001b[0m\n\u001b[1;33m    def Feature3(energy)\u001b[0m\n\u001b[1;37m                        ^\u001b[0m\n\u001b[1;31mSyntaxError\u001b[0m\u001b[1;31m:\u001b[0m invalid syntax\n"
     ]
    }
   ],
   "source": [
    "# Function for feature 3, 'energy' column will be used for \n",
    "def Feature3(energy)\n",
    "    if 0 <= energy <= 0.4:\n",
    "        return 1\n",
    "    elif 0.41 <= energy <= 0.7:\n",
    "        return 2\n",
    "    else:\n",
    "        return 3\n",
    "    \n",
    "    df['energy_encoded'] = df['energy'].apply(encode_energy)"
   ]
  },
  {
   "cell_type": "code",
   "execution_count": null,
   "id": "837bd46c",
   "metadata": {},
   "outputs": [],
   "source": []
  }
 ],
 "metadata": {
  "kernelspec": {
   "display_name": "Python 3 (ipykernel)",
   "language": "python",
   "name": "python3"
  },
  "language_info": {
   "codemirror_mode": {
    "name": "ipython",
    "version": 3
   },
   "file_extension": ".py",
   "mimetype": "text/x-python",
   "name": "python",
   "nbconvert_exporter": "python",
   "pygments_lexer": "ipython3",
   "version": "3.9.13"
  }
 },
 "nbformat": 4,
 "nbformat_minor": 5
}
