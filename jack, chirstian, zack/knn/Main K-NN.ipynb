{
 "cells": [
  {
   "cell_type": "code",
   "execution_count": 1,
   "id": "7d5136c4",
   "metadata": {},
   "outputs": [],
   "source": [
    "import pandas as pd\n",
    "from sklearn.feature_extraction.text import TfidfVectorizer\n",
    "from sklearn.preprocessing import StandardScaler\n",
    "from sklearn.neighbors import KNeighborsClassifier\n",
    "from sklearn.model_selection import train_test_split\n",
    "from sklearn.pipeline import make_pipeline"
   ]
  },
  {
   "cell_type": "code",
   "execution_count": 4,
   "id": "0321cea2",
   "metadata": {},
   "outputs": [],
   "source": [
    "df1 = pd.read_csv(\"dictionary_verified_top_nsfw_words.csv\")\n",
    "df2 = pd.read_csv(\"dot05_nsfw_words.csv\")"
   ]
  },
  {
   "cell_type": "code",
   "execution_count": 46,
   "id": "991194c1",
   "metadata": {},
   "outputs": [],
   "source": [
    "data = pd.read_csv(\"diffusion_db_unaltered.csv\")\n",
    "data = data.dropna()"
   ]
  },
  {
   "cell_type": "code",
   "execution_count": 68,
   "id": "721338e7",
   "metadata": {},
   "outputs": [],
   "source": [
    "# Simple vectorization: Looking for the word 'boobs, blood, scary, robot'\n",
    "vectors = {\n",
    "    'vector': []\n",
    "}\n",
    "\n",
    "for prompt in data['prompt']:\n",
    "    if \"boobs, blood, scary, robot\" in prompt:\n",
    "        vectors['vector'].append(1)\n",
    "    else:\n",
    "        vectors['vector'].append(0)\n",
    "\n",
    "data['vector'] = vectors['vector']"
   ]
  },
  {
   "cell_type": "code",
   "execution_count": 69,
   "id": "4d035855",
   "metadata": {},
   "outputs": [
    {
     "data": {
      "text/html": [
       "<div>\n",
       "<style scoped>\n",
       "    .dataframe tbody tr th:only-of-type {\n",
       "        vertical-align: middle;\n",
       "    }\n",
       "\n",
       "    .dataframe tbody tr th {\n",
       "        vertical-align: top;\n",
       "    }\n",
       "\n",
       "    .dataframe thead th {\n",
       "        text-align: right;\n",
       "    }\n",
       "</style>\n",
       "<table border=\"1\" class=\"dataframe\">\n",
       "  <thead>\n",
       "    <tr style=\"text-align: right;\">\n",
       "      <th></th>\n",
       "      <th>prompt</th>\n",
       "      <th>image_nsfw</th>\n",
       "      <th>prompt_nsfw</th>\n",
       "      <th>vector</th>\n",
       "    </tr>\n",
       "  </thead>\n",
       "  <tbody>\n",
       "    <tr>\n",
       "      <th>0</th>\n",
       "      <td>a portrait of a female robot made from code, v...</td>\n",
       "      <td>0.554853</td>\n",
       "      <td>0.001621</td>\n",
       "      <td>0</td>\n",
       "    </tr>\n",
       "    <tr>\n",
       "      <th>1</th>\n",
       "      <td>a portrait of a female robot made from a cloud...</td>\n",
       "      <td>0.153645</td>\n",
       "      <td>0.000707</td>\n",
       "      <td>0</td>\n",
       "    </tr>\n",
       "    <tr>\n",
       "      <th>2</th>\n",
       "      <td>only memories remain, trending on artstation</td>\n",
       "      <td>0.062496</td>\n",
       "      <td>0.000425</td>\n",
       "      <td>0</td>\n",
       "    </tr>\n",
       "    <tr>\n",
       "      <th>3</th>\n",
       "      <td>dream swimming pool with nobody</td>\n",
       "      <td>0.030799</td>\n",
       "      <td>0.003586</td>\n",
       "      <td>0</td>\n",
       "    </tr>\n",
       "    <tr>\n",
       "      <th>4</th>\n",
       "      <td>a dog doing weights. epic oil painting.</td>\n",
       "      <td>0.181035</td>\n",
       "      <td>0.030822</td>\n",
       "      <td>0</td>\n",
       "    </tr>\n",
       "  </tbody>\n",
       "</table>\n",
       "</div>"
      ],
      "text/plain": [
       "                                              prompt  image_nsfw  prompt_nsfw  \\\n",
       "0  a portrait of a female robot made from code, v...    0.554853     0.001621   \n",
       "1  a portrait of a female robot made from a cloud...    0.153645     0.000707   \n",
       "2      only memories remain, trending on artstation     0.062496     0.000425   \n",
       "3                   dream swimming pool with nobody     0.030799     0.003586   \n",
       "4           a dog doing weights. epic oil painting.     0.181035     0.030822   \n",
       "\n",
       "   vector  \n",
       "0       0  \n",
       "1       0  \n",
       "2       0  \n",
       "3       0  \n",
       "4       0  "
      ]
     },
     "execution_count": 69,
     "metadata": {},
     "output_type": "execute_result"
    }
   ],
   "source": [
    "data.head()"
   ]
  },
  {
   "cell_type": "code",
   "execution_count": 66,
   "id": "dbbfb539",
   "metadata": {},
   "outputs": [
    {
     "name": "stdout",
     "output_type": "stream",
     "text": [
      "<class 'pandas.core.frame.DataFrame'>\n",
      "Int64Index: 91564 entries, 0 to 91188\n",
      "Data columns (total 2 columns):\n",
      " #   Column  Non-Null Count  Dtype \n",
      "---  ------  --------------  ----- \n",
      " 0   word    91564 non-null  object\n",
      " 1   count   91564 non-null  int64 \n",
      "dtypes: int64(1), object(1)\n",
      "memory usage: 2.1+ MB\n"
     ]
    }
   ],
   "source": [
    "df.info()"
   ]
  },
  {
   "cell_type": "code",
   "execution_count": 5,
   "id": "18dded65",
   "metadata": {},
   "outputs": [],
   "source": [
    "df = pd.concat([df1, df2]).drop(columns=[\"Unnamed: 0\"]).dropna()"
   ]
  },
  {
   "cell_type": "code",
   "execution_count": 65,
   "id": "89eb60d3",
   "metadata": {},
   "outputs": [
    {
     "data": {
      "text/html": [
       "<div>\n",
       "<style scoped>\n",
       "    .dataframe tbody tr th:only-of-type {\n",
       "        vertical-align: middle;\n",
       "    }\n",
       "\n",
       "    .dataframe tbody tr th {\n",
       "        vertical-align: top;\n",
       "    }\n",
       "\n",
       "    .dataframe thead th {\n",
       "        text-align: right;\n",
       "    }\n",
       "</style>\n",
       "<table border=\"1\" class=\"dataframe\">\n",
       "  <thead>\n",
       "    <tr style=\"text-align: right;\">\n",
       "      <th></th>\n",
       "      <th>word</th>\n",
       "      <th>count</th>\n",
       "    </tr>\n",
       "  </thead>\n",
       "  <tbody>\n",
       "    <tr>\n",
       "      <th>0</th>\n",
       "      <td>knave</td>\n",
       "      <td>2</td>\n",
       "    </tr>\n",
       "    <tr>\n",
       "      <th>1</th>\n",
       "      <td>spake</td>\n",
       "      <td>6</td>\n",
       "    </tr>\n",
       "    <tr>\n",
       "      <th>2</th>\n",
       "      <td>wordsmith</td>\n",
       "      <td>4</td>\n",
       "    </tr>\n",
       "    <tr>\n",
       "      <th>3</th>\n",
       "      <td>tween</td>\n",
       "      <td>2</td>\n",
       "    </tr>\n",
       "    <tr>\n",
       "      <th>4</th>\n",
       "      <td>gou</td>\n",
       "      <td>3</td>\n",
       "    </tr>\n",
       "  </tbody>\n",
       "</table>\n",
       "</div>"
      ],
      "text/plain": [
       "        word  count\n",
       "0      knave      2\n",
       "1      spake      6\n",
       "2  wordsmith      4\n",
       "3      tween      2\n",
       "4        gou      3"
      ]
     },
     "execution_count": 65,
     "metadata": {},
     "output_type": "execute_result"
    }
   ],
   "source": [
    "df.head()"
   ]
  },
  {
   "cell_type": "code",
   "execution_count": 39,
   "id": "2b627bd3",
   "metadata": {},
   "outputs": [],
   "source": [
    "vectorizer = TfidfVectorizer()\n",
    "X_text = vectorizer.fit_transform(df['word'])"
   ]
  },
  {
   "cell_type": "code",
   "execution_count": 41,
   "id": "4ccca853",
   "metadata": {
    "scrolled": true
   },
   "outputs": [
    {
     "data": {
      "text/plain": [
       "<91564x75400 sparse matrix of type '<class 'numpy.float64'>'\n",
       "\twith 91542 stored elements in Compressed Sparse Row format>"
      ]
     },
     "execution_count": 41,
     "metadata": {},
     "output_type": "execute_result"
    }
   ],
   "source": [
    "X_text"
   ]
  },
  {
   "cell_type": "code",
   "execution_count": 49,
   "id": "e38f47d8",
   "metadata": {},
   "outputs": [],
   "source": [
    "scaler = StandardScaler()\n",
    "X_count = scaler.fit_transform(df[['count']])"
   ]
  },
  {
   "cell_type": "code",
   "execution_count": 50,
   "id": "1b088678",
   "metadata": {},
   "outputs": [],
   "source": [
    "X_features = [(X_text[i], X_count[i]) for i in range(len(df))]"
   ]
  },
  {
   "cell_type": "code",
   "execution_count": 51,
   "id": "0fb0f138",
   "metadata": {},
   "outputs": [],
   "source": [
    "y = np.array([0] * (len(df1)) + [1] * (len(df2)))\n"
   ]
  },
  {
   "cell_type": "code",
   "execution_count": 54,
   "id": "00eda8d7",
   "metadata": {},
   "outputs": [],
   "source": [
    "from sklearn.model_selection import train_test_split\n",
    "from sklearn.neighbors import KNeighborsClassifier\n",
    "from sklearn.metrics import accuracy_score, confusion_matrix, classification_report"
   ]
  },
  {
   "cell_type": "code",
   "execution_count": 57,
   "id": "8462ed86",
   "metadata": {},
   "outputs": [
    {
     "name": "stdout",
     "output_type": "stream",
     "text": [
      "<class 'pandas.core.frame.DataFrame'>\n",
      "Int64Index: 91564 entries, 0 to 91188\n",
      "Data columns (total 2 columns):\n",
      " #   Column  Non-Null Count  Dtype \n",
      "---  ------  --------------  ----- \n",
      " 0   word    91564 non-null  object\n",
      " 1   count   91564 non-null  int64 \n",
      "dtypes: int64(1), object(1)\n",
      "memory usage: 2.1+ MB\n"
     ]
    }
   ],
   "source": [
    "df.info()"
   ]
  },
  {
   "cell_type": "code",
   "execution_count": null,
   "id": "11485988",
   "metadata": {},
   "outputs": [],
   "source": []
  }
 ],
 "metadata": {
  "kernelspec": {
   "display_name": "Python 3 (ipykernel)",
   "language": "python",
   "name": "python3"
  },
  "language_info": {
   "codemirror_mode": {
    "name": "ipython",
    "version": 3
   },
   "file_extension": ".py",
   "mimetype": "text/x-python",
   "name": "python",
   "nbconvert_exporter": "python",
   "pygments_lexer": "ipython3",
   "version": "3.9.13"
  }
 },
 "nbformat": 4,
 "nbformat_minor": 5
}
