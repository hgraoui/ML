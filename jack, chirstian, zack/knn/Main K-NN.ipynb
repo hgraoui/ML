{
 "cells": [
  {
   "cell_type": "code",
   "execution_count": 1,
   "id": "7d5136c4",
   "metadata": {},
   "outputs": [],
   "source": [
    "import pandas as pd\n",
    "from sklearn.feature_extraction.text import TfidfVectorizer\n",
    "from sklearn.preprocessing import StandardScaler\n",
    "from sklearn.neighbors import KNeighborsClassifier\n",
    "from sklearn.model_selection import train_test_split\n",
    "from sklearn.pipeline import make_pipeline"
   ]
  },
  {
   "cell_type": "code",
   "execution_count": 4,
   "id": "0321cea2",
   "metadata": {},
   "outputs": [],
   "source": [
    "df1 = pd.read_csv(\"dictionary_verified_top_nsfw_words.csv\")\n",
    "df2 = pd.read_csv(\"dot05_nsfw_words.csv\")"
   ]
  },
  {
   "cell_type": "code",
   "execution_count": 46,
   "id": "991194c1",
   "metadata": {},
   "outputs": [],
   "source": [
    "data = pd.read_csv(\"diffusion_db_unaltered.csv\")\n",
    "data = data.dropna()"
   ]
  },
  {
   "cell_type": "code",
   "execution_count": 127,
   "id": "638d6812",
   "metadata": {},
   "outputs": [
    {
     "data": {
      "text/html": [
       "<div>\n",
       "<style scoped>\n",
       "    .dataframe tbody tr th:only-of-type {\n",
       "        vertical-align: middle;\n",
       "    }\n",
       "\n",
       "    .dataframe tbody tr th {\n",
       "        vertical-align: top;\n",
       "    }\n",
       "\n",
       "    .dataframe thead th {\n",
       "        text-align: right;\n",
       "    }\n",
       "</style>\n",
       "<table border=\"1\" class=\"dataframe\">\n",
       "  <thead>\n",
       "    <tr style=\"text-align: right;\">\n",
       "      <th></th>\n",
       "      <th>word</th>\n",
       "      <th>count</th>\n",
       "    </tr>\n",
       "  </thead>\n",
       "  <tbody>\n",
       "    <tr>\n",
       "      <th>0</th>\n",
       "      <td>knave</td>\n",
       "      <td>2</td>\n",
       "    </tr>\n",
       "    <tr>\n",
       "      <th>1</th>\n",
       "      <td>spake</td>\n",
       "      <td>6</td>\n",
       "    </tr>\n",
       "    <tr>\n",
       "      <th>2</th>\n",
       "      <td>wordsmith</td>\n",
       "      <td>4</td>\n",
       "    </tr>\n",
       "    <tr>\n",
       "      <th>3</th>\n",
       "      <td>tween</td>\n",
       "      <td>2</td>\n",
       "    </tr>\n",
       "    <tr>\n",
       "      <th>4</th>\n",
       "      <td>gou</td>\n",
       "      <td>3</td>\n",
       "    </tr>\n",
       "  </tbody>\n",
       "</table>\n",
       "</div>"
      ],
      "text/plain": [
       "        word  count\n",
       "0      knave      2\n",
       "1      spake      6\n",
       "2  wordsmith      4\n",
       "3      tween      2\n",
       "4        gou      3"
      ]
     },
     "execution_count": 127,
     "metadata": {},
     "output_type": "execute_result"
    }
   ],
   "source": [
    "df.head()"
   ]
  },
  {
   "cell_type": "code",
   "execution_count": 131,
   "id": "8270cac9",
   "metadata": {
    "scrolled": true
   },
   "outputs": [
    {
     "name": "stdout",
     "output_type": "stream",
     "text": [
      "[{'prompt': 'This is a scary movie with blood.', 'vector': 1, 'filtered_prompt': 'scary movie blood.'}, {'prompt': 'A robot walks in the city.', 'vector': 1, 'filtered_prompt': 'robot walks city.'}, {'prompt': 'She has beautiful eyes.', 'vector': 0, 'filtered_prompt': 'She beautiful eyes.'}, {'prompt': 'He is a bloodthirsty villain.', 'vector': 1, 'filtered_prompt': 'He bloodthirsty villain.'}]\n"
     ]
    }
   ],
   "source": [
    "stopwords = [\n",
    "    \"the\", \"a\", \"an\", \"is\", \"are\", \"and\", \"to\", \"in\", \"that\", \"have\", \"has\",\n",
    "    \"with\", \"this\", \"these\", \"those\", \"it\", \"for\", \"on\", \"be\", \"was\", \"were\",\n",
    "    \"can\", \"will\", \"would\", \"should\", \"may\", \"might\", \"do\", \"does\", \"did\", \"of\"\n",
    "]\n",
    "\n",
    "# Assuming 'data' is a list of dictionaries with the key 'prompt'\n",
    "filtered_prompts = []\n",
    "\n",
    "for entry in data:\n",
    "    prompt = entry.get('prompt', '')  # Get the prompt from each entry\n",
    "    # Split the prompt into words, and filter out the stopwords\n",
    "    filtered_prompt = [word for word in prompt.split() if word.lower() not in stopwords]\n",
    "    entry['filtered_prompt'] = ' '.join(filtered_prompt)  # Add the filtered prompt to the entry\n",
    "\n",
    "# Display the updated data with the filtered prompts\n",
    "print(data[:5])  # Display the first 5 entries for example\n"
   ]
  },
  {
   "cell_type": "code",
   "execution_count": 132,
   "id": "8a34708b",
   "metadata": {},
   "outputs": [
    {
     "name": "stdout",
     "output_type": "stream",
     "text": [
      "[{'prompt': 'This is a scary movie with blood.', 'vector': 1}, {'prompt': 'A robot walks in the city.', 'vector': 1}, {'prompt': 'She has beautiful eyes.', 'vector': 0}, {'prompt': 'He is a bloodthirsty villain.', 'vector': 1}]\n"
     ]
    }
   ],
   "source": [
    "# Example data structure for 'data'\n",
    "data = [\n",
    "    {\"prompt\": \"This is a scary movie with blood.\"},\n",
    "    {\"prompt\": \"A robot walks in the city.\"},\n",
    "    {\"prompt\": \"She has beautiful eyes.\"},\n",
    "    {\"prompt\": \"He is a bloodthirsty villain.\"}\n",
    "]\n",
    "\n",
    "vectors = {\n",
    "    'vector': []\n",
    "}\n",
    "\n",
    "stopwords = [\n",
    "    \"knave\", \"spake\", \"wordsmith\", \"tween\", \"gou\", \"gruelling\", \"underlight\",\n",
    "    \"hogans\", \"racy\", \"skimpy\", \"sawhorse\", \"tucking\", \"tickled\", \"nevertheless\",\n",
    "    \"whereas\", \"crunches\", \"reversi\", \"contortionist\", \"borning\", \"jockstrap\",\n",
    "    \"supposedly\", \"bombshell\", \"virtue\", \"coiling\", \"gyal\", \"chaka\", \"midshipman\",\n",
    "    \"cheongsam\", \"lamia\", \"orgy\", \"confess\", \"workaholic\", \"noncommittal\", \"dashiki\",\n",
    "    \"pantyhose\", \"unclothed\", \"naiad\", \"haut\", \"cleavage\", \"unequivocal\", \"flustered\",\n",
    "    \"placate\", \"cancerous\", \"cellist\", \"rocketeer\", \"damsel\", \"precariously\", \"deg\",\n",
    "    \"merman\", \"impractical\", \"supine\", \"defiling\", \"fuddled\", \"squishing\", \"masseuse\",\n",
    "    \"accusation\", \"ticklish\", \"sarong\", \"manliness\", \"gotch\", \"fakir\", \"clubbing\",\n",
    "    \"infuriating\", \"histology\", \"knockers\", \"sugi\", \"forfeit\", \"expulsion\", \"fucking\",\n",
    "    \"hoho\", \"thrashed\", \"difficulty\", \"nymphet\", \"lascivious\", \"pennyworth\", \"decolletage\",\n",
    "    \"tejano\", \"swam\", \"retrieve\", \"reclined\", \"seducer\", \"kundalini\", \"interdependence\",\n",
    "    \"dapped\", \"cadaver\", \"venere\", \"laugher\", \"naturist\", \"inhaler\", \"banya\", \"bearish\",\n",
    "    \"invigorate\", \"intersex\", \"zaftig\", \"recumbent\", \"flagpole\", \"hydrosphere\", \"blading\",\n",
    "    \"comely\", \"pulchritudinous\", \"undergarment\", \"dichotomy\", \"muddle\", \"lawless\", \"extant\",\n",
    "    \"gallium\", \"stupendous\", \"seam\", \"lured\", \"similitude\", \"muumuu\", \"slain\", \"moonbow\",\n",
    "    \"transgressive\", \"potbellied\", \"bachelorette\", \"temptress\", \"bacchanalian\", \"outtake\",\n",
    "    \"concubine\", \"duchy\", \"busty\", \"skein\", \"conceive\", \"mestiza\", \"massaging\", \"nucha\",\n",
    "    \"exotica\", \"waistband\", \"homoeroticism\", \"catatonic\", \"recession\", \"ramping\", \"weightlifter\",\n",
    "    \"psychologic\", \"mangal\", \"motherly\", \"ultraviolent\", \"caulking\", \"notification\", \"pranking\",\n",
    "    \"succubi\", \"cire\", \"cannister\", \"froglet\", \"batoon\", \"ripeness\", \"violoncello\", \"evicted\",\n",
    "    \"divorced\", \"hermaphrodite\", \"await\", \"neigh\", \"asbestos\", \"charmed\", \"ravishing\", \"prower\",\n",
    "    \"superfine\", \"recreating\", \"luxe\", \"gladiolus\", \"blackcoat\", \"archon\", \"demeanor\", \"sanatarium\",\n",
    "    \"saxifrage\", \"sweeting\", \"titillation\", \"saron\", \"plastering\", \"xiii\", \"overtime\", \"pauper\",\n",
    "    \"peekaboo\", \"perchance\", \"jiggle\", \"soared\", \"sitar\", \"sparring\", \"seductress\", \"rollers\",\n",
    "    \"bratty\", \"cuffed\", \"hipshot\", \"combing\", \"endurance\", \"totality\", \"cervix\", \"gaining\", \"shrewd\",\n",
    "    \"negotiator\", \"pilling\", \"gumshoe\", \"zaftig\", \"plucking\", \"frieze\", \"quantized\", \"wench\", \"allergic\",\n",
    "    \"quench\", \"illusionist\", \"genteel\", \"recollection\", \"absorption\", \"evaluate\", \"incorrect\", \"ringer\",\n",
    "    \"wink\", \"slain\", \"outcome\", \"pudendum\", \"hypnotising\", \"darkskin\", \"bustier\", \"shawls\", \"raunchy\",\n",
    "    \"unclad\", \"peignoir\", \"ferme\", \"fixe\", \"unarmed\", \"sampling\", \"foresight\", \"intuit\", \"morth\",\n",
    "    \"indifference\", \"musicality\", \"shyness\", \"amalgam\", \"eh\", \"tying\", \"blackguard\", \"planner\", \"mer\",\n",
    "    \"nonchalant\", \"fellate\", \"unmentionables\", \"amorous\", \"retribution\", \"dominant\", \"purring\", \"fingered\",\n",
    "    \"inordinate\", \"slathering\", \"leggy\", \"bifocals\", \"unpainted\", \"juxtapose\", \"supernumerary\", \"revising\",\n",
    "    \"trademark\", \"mystified\", \"areola\", \"bittersweet\", \"inept\", \"erase\", \"flimsy\", \"raze\", \"snuggle\",\n",
    "    \"skyrocket\", \"suntan\", \"unisex\", \"negligee\", \"plumper\", \"hedonic\", \"melodramatic\", \"barefooted\",\n",
    "    \"woosh\", \"somniferous\", \"marksman\", \"rubby\", \"gull\", \"intimidated\", \"riviere\", \"unbound\", \"ichor\",\n",
    "    \"baptismal\", \"multiracial\", \"gaed\", \"eugenics\", \"competent\", \"accentuate\", \"moly\", \"hurling\", \"cabling\",\n",
    "    \"padi\", \"mediator\", \"opacity\", \"lifter\", \"rosed\", \"hurter\", \"clapperboard\", \"spoony\", \"nudist\", \"extatic\",\n",
    "    \"pogrom\"\n",
    "]\n",
    "\n",
    "keywords = {\"boobs\", \"blood\", \"scary\", \"robot\"}\n",
    "\n",
    "# Iterate over the data and check for keywords or stopwords\n",
    "for item in data:\n",
    "    prompt = item['prompt']\n",
    "    found_keyword = any(word in prompt for word in keywords)\n",
    "    found_stopword = any(word in prompt for word in stopwords)\n",
    "    \n",
    "    if found_keyword or found_stopword:\n",
    "        vectors['vector'].append(1)\n",
    "    else:\n",
    "        vectors['vector'].append(0)\n",
    "\n",
    "# Adding the vector to the data\n",
    "for i, item in enumerate(data):\n",
    "    item['vector'] = vectors['vector'][i]\n",
    "\n",
    "# Output the data with vectors\n",
    "print(data)\n"
   ]
  },
  {
   "cell_type": "code",
   "execution_count": 133,
   "id": "50c9e76a",
   "metadata": {},
   "outputs": [
    {
     "data": {
      "text/html": [
       "<div>\n",
       "<style scoped>\n",
       "    .dataframe tbody tr th:only-of-type {\n",
       "        vertical-align: middle;\n",
       "    }\n",
       "\n",
       "    .dataframe tbody tr th {\n",
       "        vertical-align: top;\n",
       "    }\n",
       "\n",
       "    .dataframe thead th {\n",
       "        text-align: right;\n",
       "    }\n",
       "</style>\n",
       "<table border=\"1\" class=\"dataframe\">\n",
       "  <thead>\n",
       "    <tr style=\"text-align: right;\">\n",
       "      <th></th>\n",
       "      <th>word</th>\n",
       "      <th>count</th>\n",
       "    </tr>\n",
       "  </thead>\n",
       "  <tbody>\n",
       "    <tr>\n",
       "      <th>0</th>\n",
       "      <td>knave</td>\n",
       "      <td>2</td>\n",
       "    </tr>\n",
       "    <tr>\n",
       "      <th>1</th>\n",
       "      <td>spake</td>\n",
       "      <td>6</td>\n",
       "    </tr>\n",
       "    <tr>\n",
       "      <th>2</th>\n",
       "      <td>wordsmith</td>\n",
       "      <td>4</td>\n",
       "    </tr>\n",
       "    <tr>\n",
       "      <th>3</th>\n",
       "      <td>tween</td>\n",
       "      <td>2</td>\n",
       "    </tr>\n",
       "    <tr>\n",
       "      <th>4</th>\n",
       "      <td>gou</td>\n",
       "      <td>3</td>\n",
       "    </tr>\n",
       "  </tbody>\n",
       "</table>\n",
       "</div>"
      ],
      "text/plain": [
       "        word  count\n",
       "0      knave      2\n",
       "1      spake      6\n",
       "2  wordsmith      4\n",
       "3      tween      2\n",
       "4        gou      3"
      ]
     },
     "execution_count": 133,
     "metadata": {},
     "output_type": "execute_result"
    }
   ],
   "source": [
    "df.head()"
   ]
  },
  {
   "cell_type": "code",
   "execution_count": 121,
   "id": "efa5d9dc",
   "metadata": {},
   "outputs": [
    {
     "name": "stdout",
     "output_type": "stream",
     "text": [
      "[[1, 2, 3, 4, 5, 6, 7], [8, 9, 10, 11, 12, 13], [14, 15, 16, 17], [18, 2, 3, 19, 20]]\n"
     ]
    }
   ],
   "source": [
    "vocab = []\n",
    "# Loop through the list of dictionaries (data is a list)\n",
    "for i in range(len(data)):\n",
    "    see = data[i]['prompt'].split()  # Accessing 'prompt' from each dictionary\n",
    "    for word in see:\n",
    "        if word not in vocab:\n",
    "            vocab.append(word)\n",
    "\n",
    "X = []\n",
    "# Loop through again to create X\n",
    "for i in range(len(data)):\n",
    "    tsee = data[i]['prompt'].split()  # Accessing 'prompt' from each dictionary\n",
    "    temp = []\n",
    "    for word in tsee:\n",
    "        if word in vocab:\n",
    "            temp.append(vocab.index(word) + 1)  # Adding 1 to avoid zero indexing\n",
    "    X.append(temp)\n",
    "\n",
    "# Printing the result\n",
    "print(X)\n"
   ]
  },
  {
   "cell_type": "code",
   "execution_count": 66,
   "id": "81246cba",
   "metadata": {},
   "outputs": [
    {
     "name": "stdout",
     "output_type": "stream",
     "text": [
      "<class 'pandas.core.frame.DataFrame'>\n",
      "Int64Index: 91564 entries, 0 to 91188\n",
      "Data columns (total 2 columns):\n",
      " #   Column  Non-Null Count  Dtype \n",
      "---  ------  --------------  ----- \n",
      " 0   word    91564 non-null  object\n",
      " 1   count   91564 non-null  int64 \n",
      "dtypes: int64(1), object(1)\n",
      "memory usage: 2.1+ MB\n"
     ]
    }
   ],
   "source": [
    "df.info()"
   ]
  },
  {
   "cell_type": "code",
   "execution_count": 5,
   "id": "18dded65",
   "metadata": {},
   "outputs": [],
   "source": [
    "df = pd.concat([df1, df2]).drop(columns=[\"Unnamed: 0\"]).dropna()"
   ]
  },
  {
   "cell_type": "code",
   "execution_count": 65,
   "id": "89eb60d3",
   "metadata": {},
   "outputs": [
    {
     "data": {
      "text/html": [
       "<div>\n",
       "<style scoped>\n",
       "    .dataframe tbody tr th:only-of-type {\n",
       "        vertical-align: middle;\n",
       "    }\n",
       "\n",
       "    .dataframe tbody tr th {\n",
       "        vertical-align: top;\n",
       "    }\n",
       "\n",
       "    .dataframe thead th {\n",
       "        text-align: right;\n",
       "    }\n",
       "</style>\n",
       "<table border=\"1\" class=\"dataframe\">\n",
       "  <thead>\n",
       "    <tr style=\"text-align: right;\">\n",
       "      <th></th>\n",
       "      <th>word</th>\n",
       "      <th>count</th>\n",
       "    </tr>\n",
       "  </thead>\n",
       "  <tbody>\n",
       "    <tr>\n",
       "      <th>0</th>\n",
       "      <td>knave</td>\n",
       "      <td>2</td>\n",
       "    </tr>\n",
       "    <tr>\n",
       "      <th>1</th>\n",
       "      <td>spake</td>\n",
       "      <td>6</td>\n",
       "    </tr>\n",
       "    <tr>\n",
       "      <th>2</th>\n",
       "      <td>wordsmith</td>\n",
       "      <td>4</td>\n",
       "    </tr>\n",
       "    <tr>\n",
       "      <th>3</th>\n",
       "      <td>tween</td>\n",
       "      <td>2</td>\n",
       "    </tr>\n",
       "    <tr>\n",
       "      <th>4</th>\n",
       "      <td>gou</td>\n",
       "      <td>3</td>\n",
       "    </tr>\n",
       "  </tbody>\n",
       "</table>\n",
       "</div>"
      ],
      "text/plain": [
       "        word  count\n",
       "0      knave      2\n",
       "1      spake      6\n",
       "2  wordsmith      4\n",
       "3      tween      2\n",
       "4        gou      3"
      ]
     },
     "execution_count": 65,
     "metadata": {},
     "output_type": "execute_result"
    }
   ],
   "source": [
    "df.head()"
   ]
  },
  {
   "cell_type": "code",
   "execution_count": 39,
   "id": "2b627bd3",
   "metadata": {},
   "outputs": [],
   "source": [
    "vectorizer = TfidfVectorizer()\n",
    "X_text = vectorizer.fit_transform(df['word'])"
   ]
  },
  {
   "cell_type": "code",
   "execution_count": 41,
   "id": "4ccca853",
   "metadata": {
    "scrolled": true
   },
   "outputs": [
    {
     "data": {
      "text/plain": [
       "<91564x75400 sparse matrix of type '<class 'numpy.float64'>'\n",
       "\twith 91542 stored elements in Compressed Sparse Row format>"
      ]
     },
     "execution_count": 41,
     "metadata": {},
     "output_type": "execute_result"
    }
   ],
   "source": [
    "X_text"
   ]
  },
  {
   "cell_type": "code",
   "execution_count": 49,
   "id": "e38f47d8",
   "metadata": {},
   "outputs": [],
   "source": [
    "scaler = StandardScaler()\n",
    "X_count = scaler.fit_transform(df[['count']])"
   ]
  },
  {
   "cell_type": "code",
   "execution_count": 50,
   "id": "1b088678",
   "metadata": {},
   "outputs": [],
   "source": [
    "X_features = [(X_text[i], X_count[i]) for i in range(len(df))]"
   ]
  },
  {
   "cell_type": "code",
   "execution_count": 51,
   "id": "0fb0f138",
   "metadata": {},
   "outputs": [],
   "source": [
    "y = np.array([0] * (len(df1)) + [1] * (len(df2)))\n"
   ]
  },
  {
   "cell_type": "code",
   "execution_count": 54,
   "id": "a1121234",
   "metadata": {},
   "outputs": [],
   "source": [
    "from sklearn.model_selection import train_test_split\n",
    "from sklearn.neighbors import KNeighborsClassifier\n",
    "from sklearn.metrics import accuracy_score, confusion_matrix, classification_report"
   ]
  },
  {
   "cell_type": "code",
   "execution_count": 134,
   "id": "43ebd6ab",
   "metadata": {},
   "outputs": [
    {
     "name": "stdout",
     "output_type": "stream",
     "text": [
      "<class 'pandas.core.frame.DataFrame'>\n",
      "Int64Index: 91564 entries, 0 to 91188\n",
      "Data columns (total 2 columns):\n",
      " #   Column  Non-Null Count  Dtype \n",
      "---  ------  --------------  ----- \n",
      " 0   word    91564 non-null  object\n",
      " 1   count   91564 non-null  int64 \n",
      "dtypes: int64(1), object(1)\n",
      "memory usage: 2.1+ MB\n"
     ]
    },
    {
     "data": {
      "text/html": [
       "<div>\n",
       "<style scoped>\n",
       "    .dataframe tbody tr th:only-of-type {\n",
       "        vertical-align: middle;\n",
       "    }\n",
       "\n",
       "    .dataframe tbody tr th {\n",
       "        vertical-align: top;\n",
       "    }\n",
       "\n",
       "    .dataframe thead th {\n",
       "        text-align: right;\n",
       "    }\n",
       "</style>\n",
       "<table border=\"1\" class=\"dataframe\">\n",
       "  <thead>\n",
       "    <tr style=\"text-align: right;\">\n",
       "      <th></th>\n",
       "      <th>word</th>\n",
       "      <th>count</th>\n",
       "    </tr>\n",
       "  </thead>\n",
       "  <tbody>\n",
       "    <tr>\n",
       "      <th>0</th>\n",
       "      <td>knave</td>\n",
       "      <td>2</td>\n",
       "    </tr>\n",
       "    <tr>\n",
       "      <th>1</th>\n",
       "      <td>spake</td>\n",
       "      <td>6</td>\n",
       "    </tr>\n",
       "    <tr>\n",
       "      <th>2</th>\n",
       "      <td>wordsmith</td>\n",
       "      <td>4</td>\n",
       "    </tr>\n",
       "    <tr>\n",
       "      <th>3</th>\n",
       "      <td>tween</td>\n",
       "      <td>2</td>\n",
       "    </tr>\n",
       "    <tr>\n",
       "      <th>4</th>\n",
       "      <td>gou</td>\n",
       "      <td>3</td>\n",
       "    </tr>\n",
       "  </tbody>\n",
       "</table>\n",
       "</div>"
      ],
      "text/plain": [
       "        word  count\n",
       "0      knave      2\n",
       "1      spake      6\n",
       "2  wordsmith      4\n",
       "3      tween      2\n",
       "4        gou      3"
      ]
     },
     "execution_count": 134,
     "metadata": {},
     "output_type": "execute_result"
    }
   ],
   "source": [
    "df.info()\n",
    "df.head()"
   ]
  },
  {
   "cell_type": "code",
   "execution_count": 94,
   "id": "549ceb34",
   "metadata": {},
   "outputs": [
    {
     "data": {
      "text/plain": [
       "0.5"
      ]
     },
     "execution_count": 94,
     "metadata": {},
     "output_type": "execute_result"
    }
   ],
   "source": [
    "import numpy as np\n",
    "accuracy_score(np.array([[0, 1], [1, 1]]), np.ones((2, 2)))"
   ]
  },
  {
   "cell_type": "code",
   "execution_count": 101,
   "id": "1758fa50",
   "metadata": {},
   "outputs": [
    {
     "name": "stdout",
     "output_type": "stream",
     "text": [
      "[0.66666667 1.         0.66666667]\n"
     ]
    }
   ],
   "source": [
    "from sklearn.metrics import f1_score\n",
    "\n",
    "y_true = [[0, 0, 0], [1, 1, 1], [0, 1, 1]]\n",
    "y_pred = [[0, 0, 0], [1, 1, 1], [1, 1, 0]]\n",
    "\n",
    "# Compute F1-score for each label\n",
    "f1 = f1_score(y_true, y_pred, average=None)\n",
    "\n",
    "print(f1) "
   ]
  },
  {
   "cell_type": "code",
   "execution_count": 104,
   "id": "8fc7f0a3",
   "metadata": {},
   "outputs": [
    {
     "name": "stdout",
     "output_type": "stream",
     "text": [
      "0.8333333333333334\n"
     ]
    }
   ],
   "source": [
    "from sklearn.metrics import precision_score\n",
    "\n",
    "# Example data (ensure `y` and `y_pred` are defined correctly)\n",
    "y_true = [[0, 0, 0], [1, 1, 1], [0, 1, 1]]\n",
    "y_pred = [[0, 0, 0], [1, 1, 1], [1, 1, 0]]\n",
    "\n",
    "# Compute precision score\n",
    "precision = precision_score(y_true, y_pred, average='macro')\n",
    "\n",
    "print(precision)\n"
   ]
  },
  {
   "cell_type": "code",
   "execution_count": 107,
   "id": "4be32369",
   "metadata": {},
   "outputs": [
    {
     "name": "stdout",
     "output_type": "stream",
     "text": [
      "(3, 3) (3, 3)\n",
      "Recall Score: 0.8333333333333334\n"
     ]
    }
   ],
   "source": [
    "import numpy as np\n",
    "from sklearn.metrics import recall_score\n",
    "\n",
    "# Example data\n",
    "y_true = np.array([[0, 0, 0], [1, 1, 1], [0, 1, 1]])\n",
    "y_pred = np.array([[0, 0, 0], [1, 1, 1], [1, 1, 0]])\n",
    "\n",
    "# Check shape before computing recall\n",
    "print(y_true.shape, y_pred.shape)\n",
    "\n",
    "# Compute recall score\n",
    "recall = recall_score(y_true, y_pred, average='macro')\n",
    "print(\"Recall Score:\", recall)\n"
   ]
  },
  {
   "cell_type": "code",
   "execution_count": 108,
   "id": "96aa77f5",
   "metadata": {},
   "outputs": [
    {
     "name": "stdout",
     "output_type": "stream",
     "text": [
      "Accuracy for K=5: 1.0000\n"
     ]
    },
    {
     "name": "stderr",
     "output_type": "stream",
     "text": [
      "C:\\ProgramData\\Anaconda3\\lib\\site-packages\\sklearn\\neighbors\\_classification.py:228: FutureWarning: Unlike other reduction functions (e.g. `skew`, `kurtosis`), the default behavior of `mode` typically preserves the axis it acts along. In SciPy 1.11.0, this behavior will change: the default value of `keepdims` will become False, the `axis` over which the statistic is taken will be eliminated, and the value None will no longer be accepted. Set `keepdims` to True or False to avoid this warning.\n",
      "  mode, _ = stats.mode(_y[neigh_ind, k], axis=1)\n"
     ]
    }
   ],
   "source": [
    "from sklearn.model_selection import cross_val_score\n",
    "from sklearn.neighbors import KNeighborsClassifier\n",
    "from sklearn.metrics import accuracy_score\n",
    "from sklearn.model_selection import train_test_split\n",
    "from sklearn.datasets import load_iris\n",
    "\n",
    "# Load dataset\n",
    "data = load_iris()\n",
    "X, y = data.data, data.target\n",
    "\n",
    "# Split dataset\n",
    "X_train, X_test, y_train, y_test = train_test_split(X, y, test_size=0.2, random_state=42)\n",
    "\n",
    "# Function to compute K-score\n",
    "def knn_k_score(X_train, X_test, y_train, y_test, k):\n",
    "    knn = KNeighborsClassifier(n_neighbors=k)\n",
    "    knn.fit(X_train, y_train)\n",
    "    y_pred = knn.predict(X_test)\n",
    "    return accuracy_score(y_test, y_pred)\n",
    "\n",
    "# Test function\n",
    "k = 5  # Example value of K\n",
    "score = knn_k_score(X_train, X_test, y_train, y_test, k)\n",
    "print(f\"Accuracy for K={k}: {score:.4f}\")\n"
   ]
  },
  {
   "cell_type": "code",
   "execution_count": null,
   "id": "45021fb1",
   "metadata": {},
   "outputs": [],
   "source": [
    "# List of harmful keywords (this can be expanded as needed)\n",
    "harmful_keywords = [\"violence\", \"abuse\", \"hate\", \"racist\", \"bullying\", \"threat\"]\n",
    "\n",
    "def is_harmful(prompt):\n",
    "    # Check if any harmful keyword exists in the prompt\n",
    "    for keyword in harmful_keywords:\n",
    "        if keyword.lower() in prompt.lower():\n",
    "            return True\n",
    "    return False\n",
    "\n",
    "# Input the prompt yourself\n",
    "user_prompt = input(\"Enter a prompt: \")\n",
    "\n",
    "# Check if the prompt is harmful or harmless\n",
    "if is_harmful(user_prompt):\n",
    "    print(f\"Prompt: '{user_prompt}' is harmful.\")\n",
    "else:\n",
    "    print(f\"Prompt: '{user_prompt}' is harmless.\")\n"
   ]
  },
  {
   "cell_type": "code",
   "execution_count": null,
   "id": "a976417f",
   "metadata": {},
   "outputs": [],
   "source": []
  }
 ],
 "metadata": {
  "kernelspec": {
   "display_name": "Python 3 (ipykernel)",
   "language": "python",
   "name": "python3"
  },
  "language_info": {
   "codemirror_mode": {
    "name": "ipython",
    "version": 3
   },
   "file_extension": ".py",
   "mimetype": "text/x-python",
   "name": "python",
   "nbconvert_exporter": "python",
   "pygments_lexer": "ipython3",
   "version": "3.9.13"
  }
 },
 "nbformat": 4,
 "nbformat_minor": 5
}
